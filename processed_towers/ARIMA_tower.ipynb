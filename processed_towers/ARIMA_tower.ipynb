{
 "cells": [
  {
   "cell_type": "markdown",
   "metadata": {},
   "source": [
    "# <center>Time Series Analysis on Europlt tower, interpolate from 10 minute data.</center>"
   ]
  },
  {
   "cell_type": "markdown",
   "metadata": {},
   "source": [
    "## <center>(WORKING)Algorithm: Auto Regressive Integrated Moving Average model(ARIMA)</center>"
   ]
  },
  {
   "cell_type": "markdown",
   "metadata": {},
   "source": [
    "### Import libraries"
   ]
  },
  {
   "cell_type": "code",
   "execution_count": 1,
   "metadata": {},
   "outputs": [],
   "source": [
    "import numpy as np\n",
    "import pandas as pd\n",
    "import math\n",
    "\n",
    "import statsmodels.api as sm\n",
    "import statsmodels.tsa.api as smt\n",
    "import statsmodels.formula.api as smf\n",
    "from statsmodels.tsa.stattools import adfuller\n",
    "from sklearn.metrics import mean_squared_error\n",
    "\n",
    "import matplotlib.pyplot as plt\n",
    "%matplotlib inline\n",
    "import seaborn as sns\n",
    "\n",
    "import itertools\n",
    "import warnings\n",
    "warnings.filterwarnings('ignore')"
   ]
  },
  {
   "cell_type": "markdown",
   "metadata": {
    "tags": []
   },
   "source": [
    "### Filename"
   ]
  },
  {
   "cell_type": "code",
   "execution_count": 4,
   "metadata": {},
   "outputs": [],
   "source": [
    "filename ='europlt_processed.csv'"
   ]
  },
  {
   "cell_type": "markdown",
   "metadata": {
    "tags": []
   },
   "source": [
    "### Data\n",
    "\n",
    "#### Cleaned tower data from KNMI, Dutch meteorological service, with 10 minutes intervals of wind speed\n",
    "#### KNMI wind speed and direction observations\n",
    "#### Europlatform station\n",
    "#### Lat: 51.9978 Lon: 3.275 z: 29m above mean sea level\n",
    "#### inititally collected from https://dataplatform.knmi.nl/dataset/windggevens-1-0\n",
    "#### fields - wind speed FF_10m_10 (m/s)\n",
    "#### gust speed FF_SENSOR_10 (m/s)\n",
    "#### wind direction: DDN_10 (degrees)"
   ]
  },
  {
   "cell_type": "code",
   "execution_count": 5,
   "metadata": {
    "tags": []
   },
   "outputs": [
    {
     "data": {
      "text/html": [
       "<div>\n",
       "<style scoped>\n",
       "    .dataframe tbody tr th:only-of-type {\n",
       "        vertical-align: middle;\n",
       "    }\n",
       "\n",
       "    .dataframe tbody tr th {\n",
       "        vertical-align: top;\n",
       "    }\n",
       "\n",
       "    .dataframe thead th {\n",
       "        text-align: right;\n",
       "    }\n",
       "</style>\n",
       "<table border=\"1\" class=\"dataframe\">\n",
       "  <thead>\n",
       "    <tr style=\"text-align: right;\">\n",
       "      <th></th>\n",
       "      <th>Datetime</th>\n",
       "      <th>LOCATION</th>\n",
       "      <th>NAME</th>\n",
       "      <th>LATITUDE</th>\n",
       "      <th>LONGITUDE</th>\n",
       "      <th>ALTITUDE</th>\n",
       "      <th>FF_10M_10</th>\n",
       "      <th>DD_10</th>\n",
       "      <th>DDN_10</th>\n",
       "      <th>DD_STD_10</th>\n",
       "      <th>DDX_10</th>\n",
       "      <th>FF_SENSOR_10</th>\n",
       "      <th>Flag</th>\n",
       "    </tr>\n",
       "  </thead>\n",
       "  <tbody>\n",
       "    <tr>\n",
       "      <th>0</th>\n",
       "      <td>01/04/2003 00:10</td>\n",
       "      <td>321_W_0</td>\n",
       "      <td>Europlatform_locatie_0</td>\n",
       "      <td>51.997778</td>\n",
       "      <td>3.275</td>\n",
       "      <td>19</td>\n",
       "      <td>3.15</td>\n",
       "      <td>2.8079</td>\n",
       "      <td>150.5</td>\n",
       "      <td>3.1</td>\n",
       "      <td>3.3094</td>\n",
       "      <td>3.63</td>\n",
       "      <td>1</td>\n",
       "    </tr>\n",
       "    <tr>\n",
       "      <th>1</th>\n",
       "      <td>01/04/2003 00:20</td>\n",
       "      <td>321_W_0</td>\n",
       "      <td>Europlatform_locatie_0</td>\n",
       "      <td>51.997778</td>\n",
       "      <td>3.275</td>\n",
       "      <td>19</td>\n",
       "      <td>3.65</td>\n",
       "      <td>3.2536</td>\n",
       "      <td>153.6</td>\n",
       "      <td>1.9</td>\n",
       "      <td>3.7015</td>\n",
       "      <td>4.06</td>\n",
       "      <td>1</td>\n",
       "    </tr>\n",
       "    <tr>\n",
       "      <th>2</th>\n",
       "      <td>01/04/2003 00:30</td>\n",
       "      <td>321_W_0</td>\n",
       "      <td>Europlatform_locatie_0</td>\n",
       "      <td>51.997778</td>\n",
       "      <td>3.275</td>\n",
       "      <td>19</td>\n",
       "      <td>3.98</td>\n",
       "      <td>3.5478</td>\n",
       "      <td>156.8</td>\n",
       "      <td>1.9</td>\n",
       "      <td>3.9659</td>\n",
       "      <td>4.35</td>\n",
       "      <td>1</td>\n",
       "    </tr>\n",
       "    <tr>\n",
       "      <th>3</th>\n",
       "      <td>01/04/2003 00:40</td>\n",
       "      <td>321_W_0</td>\n",
       "      <td>Europlatform_locatie_0</td>\n",
       "      <td>51.997778</td>\n",
       "      <td>3.275</td>\n",
       "      <td>19</td>\n",
       "      <td>4.18</td>\n",
       "      <td>3.7261</td>\n",
       "      <td>159.9</td>\n",
       "      <td>2.5</td>\n",
       "      <td>4.3032</td>\n",
       "      <td>4.72</td>\n",
       "      <td>1</td>\n",
       "    </tr>\n",
       "    <tr>\n",
       "      <th>4</th>\n",
       "      <td>01/04/2003 00:50</td>\n",
       "      <td>321_W_0</td>\n",
       "      <td>Europlatform_locatie_0</td>\n",
       "      <td>51.997778</td>\n",
       "      <td>3.275</td>\n",
       "      <td>19</td>\n",
       "      <td>4.45</td>\n",
       "      <td>3.9668</td>\n",
       "      <td>164.0</td>\n",
       "      <td>2.8</td>\n",
       "      <td>4.5676</td>\n",
       "      <td>5.01</td>\n",
       "      <td>1</td>\n",
       "    </tr>\n",
       "  </tbody>\n",
       "</table>\n",
       "</div>"
      ],
      "text/plain": [
       "           Datetime LOCATION                    NAME   LATITUDE  LONGITUDE  \\\n",
       "0  01/04/2003 00:10  321_W_0  Europlatform_locatie_0  51.997778      3.275   \n",
       "1  01/04/2003 00:20  321_W_0  Europlatform_locatie_0  51.997778      3.275   \n",
       "2  01/04/2003 00:30  321_W_0  Europlatform_locatie_0  51.997778      3.275   \n",
       "3  01/04/2003 00:40  321_W_0  Europlatform_locatie_0  51.997778      3.275   \n",
       "4  01/04/2003 00:50  321_W_0  Europlatform_locatie_0  51.997778      3.275   \n",
       "\n",
       "   ALTITUDE  FF_10M_10   DD_10  DDN_10  DD_STD_10  DDX_10  FF_SENSOR_10  Flag  \n",
       "0        19       3.15  2.8079   150.5        3.1  3.3094          3.63     1  \n",
       "1        19       3.65  3.2536   153.6        1.9  3.7015          4.06     1  \n",
       "2        19       3.98  3.5478   156.8        1.9  3.9659          4.35     1  \n",
       "3        19       4.18  3.7261   159.9        2.5  4.3032          4.72     1  \n",
       "4        19       4.45  3.9668   164.0        2.8  4.5676          5.01     1  "
      ]
     },
     "execution_count": 5,
     "metadata": {},
     "output_type": "execute_result"
    }
   ],
   "source": [
    "europlt_wind = pd.read_csv(filename, delimiter=',', header=9)\n",
    "europlt_wind.head()"
   ]
  },
  {
   "cell_type": "markdown",
   "metadata": {},
   "source": [
    "### Set time as the Index"
   ]
  },
  {
   "cell_type": "code",
   "execution_count": 6,
   "metadata": {},
   "outputs": [
    {
     "data": {
      "text/html": [
       "<div>\n",
       "<style scoped>\n",
       "    .dataframe tbody tr th:only-of-type {\n",
       "        vertical-align: middle;\n",
       "    }\n",
       "\n",
       "    .dataframe tbody tr th {\n",
       "        vertical-align: top;\n",
       "    }\n",
       "\n",
       "    .dataframe thead th {\n",
       "        text-align: right;\n",
       "    }\n",
       "</style>\n",
       "<table border=\"1\" class=\"dataframe\">\n",
       "  <thead>\n",
       "    <tr style=\"text-align: right;\">\n",
       "      <th></th>\n",
       "      <th>LOCATION</th>\n",
       "      <th>NAME</th>\n",
       "      <th>LATITUDE</th>\n",
       "      <th>LONGITUDE</th>\n",
       "      <th>ALTITUDE</th>\n",
       "      <th>FF_10M_10</th>\n",
       "      <th>DD_10</th>\n",
       "      <th>DDN_10</th>\n",
       "      <th>DD_STD_10</th>\n",
       "      <th>DDX_10</th>\n",
       "      <th>FF_SENSOR_10</th>\n",
       "      <th>Flag</th>\n",
       "    </tr>\n",
       "    <tr>\n",
       "      <th>Datetime</th>\n",
       "      <th></th>\n",
       "      <th></th>\n",
       "      <th></th>\n",
       "      <th></th>\n",
       "      <th></th>\n",
       "      <th></th>\n",
       "      <th></th>\n",
       "      <th></th>\n",
       "      <th></th>\n",
       "      <th></th>\n",
       "      <th></th>\n",
       "      <th></th>\n",
       "    </tr>\n",
       "  </thead>\n",
       "  <tbody>\n",
       "    <tr>\n",
       "      <th>01/04/2003 00:10</th>\n",
       "      <td>321_W_0</td>\n",
       "      <td>Europlatform_locatie_0</td>\n",
       "      <td>51.997778</td>\n",
       "      <td>3.275</td>\n",
       "      <td>19</td>\n",
       "      <td>3.15</td>\n",
       "      <td>2.8079</td>\n",
       "      <td>150.5</td>\n",
       "      <td>3.1</td>\n",
       "      <td>3.3094</td>\n",
       "      <td>3.63</td>\n",
       "      <td>1</td>\n",
       "    </tr>\n",
       "    <tr>\n",
       "      <th>01/04/2003 00:20</th>\n",
       "      <td>321_W_0</td>\n",
       "      <td>Europlatform_locatie_0</td>\n",
       "      <td>51.997778</td>\n",
       "      <td>3.275</td>\n",
       "      <td>19</td>\n",
       "      <td>3.65</td>\n",
       "      <td>3.2536</td>\n",
       "      <td>153.6</td>\n",
       "      <td>1.9</td>\n",
       "      <td>3.7015</td>\n",
       "      <td>4.06</td>\n",
       "      <td>1</td>\n",
       "    </tr>\n",
       "    <tr>\n",
       "      <th>01/04/2003 00:30</th>\n",
       "      <td>321_W_0</td>\n",
       "      <td>Europlatform_locatie_0</td>\n",
       "      <td>51.997778</td>\n",
       "      <td>3.275</td>\n",
       "      <td>19</td>\n",
       "      <td>3.98</td>\n",
       "      <td>3.5478</td>\n",
       "      <td>156.8</td>\n",
       "      <td>1.9</td>\n",
       "      <td>3.9659</td>\n",
       "      <td>4.35</td>\n",
       "      <td>1</td>\n",
       "    </tr>\n",
       "    <tr>\n",
       "      <th>01/04/2003 00:40</th>\n",
       "      <td>321_W_0</td>\n",
       "      <td>Europlatform_locatie_0</td>\n",
       "      <td>51.997778</td>\n",
       "      <td>3.275</td>\n",
       "      <td>19</td>\n",
       "      <td>4.18</td>\n",
       "      <td>3.7261</td>\n",
       "      <td>159.9</td>\n",
       "      <td>2.5</td>\n",
       "      <td>4.3032</td>\n",
       "      <td>4.72</td>\n",
       "      <td>1</td>\n",
       "    </tr>\n",
       "    <tr>\n",
       "      <th>01/04/2003 00:50</th>\n",
       "      <td>321_W_0</td>\n",
       "      <td>Europlatform_locatie_0</td>\n",
       "      <td>51.997778</td>\n",
       "      <td>3.275</td>\n",
       "      <td>19</td>\n",
       "      <td>4.45</td>\n",
       "      <td>3.9668</td>\n",
       "      <td>164.0</td>\n",
       "      <td>2.8</td>\n",
       "      <td>4.5676</td>\n",
       "      <td>5.01</td>\n",
       "      <td>1</td>\n",
       "    </tr>\n",
       "  </tbody>\n",
       "</table>\n",
       "</div>"
      ],
      "text/plain": [
       "                 LOCATION                    NAME   LATITUDE  LONGITUDE  \\\n",
       "Datetime                                                                  \n",
       "01/04/2003 00:10  321_W_0  Europlatform_locatie_0  51.997778      3.275   \n",
       "01/04/2003 00:20  321_W_0  Europlatform_locatie_0  51.997778      3.275   \n",
       "01/04/2003 00:30  321_W_0  Europlatform_locatie_0  51.997778      3.275   \n",
       "01/04/2003 00:40  321_W_0  Europlatform_locatie_0  51.997778      3.275   \n",
       "01/04/2003 00:50  321_W_0  Europlatform_locatie_0  51.997778      3.275   \n",
       "\n",
       "                  ALTITUDE  FF_10M_10   DD_10  DDN_10  DD_STD_10  DDX_10  \\\n",
       "Datetime                                                                   \n",
       "01/04/2003 00:10        19       3.15  2.8079   150.5        3.1  3.3094   \n",
       "01/04/2003 00:20        19       3.65  3.2536   153.6        1.9  3.7015   \n",
       "01/04/2003 00:30        19       3.98  3.5478   156.8        1.9  3.9659   \n",
       "01/04/2003 00:40        19       4.18  3.7261   159.9        2.5  4.3032   \n",
       "01/04/2003 00:50        19       4.45  3.9668   164.0        2.8  4.5676   \n",
       "\n",
       "                  FF_SENSOR_10  Flag  \n",
       "Datetime                              \n",
       "01/04/2003 00:10          3.63     1  \n",
       "01/04/2003 00:20          4.06     1  \n",
       "01/04/2003 00:30          4.35     1  \n",
       "01/04/2003 00:40          4.72     1  \n",
       "01/04/2003 00:50          5.01     1  "
      ]
     },
     "execution_count": 6,
     "metadata": {},
     "output_type": "execute_result"
    }
   ],
   "source": [
    "europlt_wind.set_index('Datetime', inplace=True)\n",
    "europlt_wind.head()"
   ]
  },
  {
   "cell_type": "markdown",
   "metadata": {},
   "source": [
    "### Find wind values and flags"
   ]
  },
  {
   "cell_type": "code",
   "execution_count": 7,
   "metadata": {},
   "outputs": [
    {
     "name": "stdout",
     "output_type": "stream",
     "text": [
      "[[3.15]\n",
      " [3.65]\n",
      " [3.98]\n",
      " [4.18]\n",
      " [4.45]\n",
      " [4.14]\n",
      " [4.24]\n",
      " [4.47]\n",
      " [4.64]\n",
      " [5.25]]\n",
      "989280\n",
      "989280\n"
     ]
    }
   ],
   "source": [
    "wind_vals = europlt_wind[[\"FF_10M_10\"]].to_numpy()\n",
    "flags = europlt_wind[[\"Flag\"]].to_numpy()\n",
    "print(wind_vals[0:10])\n",
    "print(len(wind_vals))\n",
    "print(len(flags))"
   ]
  },
  {
   "cell_type": "markdown",
   "metadata": {},
   "source": [
    "### Replace wind values where flag is 0 with nan"
   ]
  },
  {
   "cell_type": "code",
   "execution_count": 12,
   "metadata": {},
   "outputs": [
    {
     "name": "stdout",
     "output_type": "stream",
     "text": [
      "[[15.11]\n",
      " [16.33]\n",
      " [16.45]\n",
      " [16.97]\n",
      " [  nan]\n",
      " [  nan]\n",
      " [15.15]\n",
      " [15.59]\n",
      " [14.21]]\n"
     ]
    },
    {
     "data": {
      "text/plain": [
       "(array([   502,    762,   1770, ..., 977524, 979276, 984600]),\n",
       " array([0, 0, 0, ..., 0, 0, 0]))"
      ]
     },
     "execution_count": 12,
     "metadata": {},
     "output_type": "execute_result"
    }
   ],
   "source": [
    "loc_flags = np.where(flags < 1)\n",
    "wind_vals[loc_flags[0]] = float('NaN')\n",
    "# test around one point\n",
    "print(wind_vals[loc_flags[0][450]-4:loc_flags[0][450]+5])\n"
   ]
  },
  {
   "cell_type": "markdown",
   "metadata": {},
   "source": [
    "### How much data must be removed due to flags?"
   ]
  },
  {
   "cell_type": "code",
   "execution_count": 9,
   "metadata": {},
   "outputs": [
    {
     "name": "stdout",
     "output_type": "stream",
     "text": [
      "percentage of points which are NaNs: 2.88%\n"
     ]
    }
   ],
   "source": [
    "pnan = len(loc_flags[0])/len(wind_vals)*100\n",
    "print(f'percentage of points which are NaNs: {pnan:.2f}%')"
   ]
  },
  {
   "cell_type": "markdown",
   "metadata": {},
   "source": [
    "### Split the whole data into train(April 2003 - End 2019) and test data (Jan 2020 - Feb 1st 2022)"
   ]
  },
  {
   "cell_type": "code",
   "execution_count": 10,
   "metadata": {},
   "outputs": [
    {
     "ename": "KeyError",
     "evalue": "'Datetime'",
     "output_type": "error",
     "traceback": [
      "\u001b[0;31m---------------------------------------------------------------------------\u001b[0m",
      "\u001b[0;31mKeyError\u001b[0m                                  Traceback (most recent call last)",
      "File \u001b[0;32m/home/h05/kdonkers/.conda/envs/time-series-forecast/lib/python3.9/site-packages/pandas/core/indexes/base.py:3621\u001b[0m, in \u001b[0;36mIndex.get_loc\u001b[0;34m(self, key, method, tolerance)\u001b[0m\n\u001b[1;32m   3620\u001b[0m \u001b[38;5;28;01mtry\u001b[39;00m:\n\u001b[0;32m-> 3621\u001b[0m     \u001b[38;5;28;01mreturn\u001b[39;00m \u001b[38;5;28;43mself\u001b[39;49m\u001b[38;5;241;43m.\u001b[39;49m\u001b[43m_engine\u001b[49m\u001b[38;5;241;43m.\u001b[39;49m\u001b[43mget_loc\u001b[49m\u001b[43m(\u001b[49m\u001b[43mcasted_key\u001b[49m\u001b[43m)\u001b[49m\n\u001b[1;32m   3622\u001b[0m \u001b[38;5;28;01mexcept\u001b[39;00m \u001b[38;5;167;01mKeyError\u001b[39;00m \u001b[38;5;28;01mas\u001b[39;00m err:\n",
      "File \u001b[0;32m/home/h05/kdonkers/.conda/envs/time-series-forecast/lib/python3.9/site-packages/pandas/_libs/index.pyx:136\u001b[0m, in \u001b[0;36mpandas._libs.index.IndexEngine.get_loc\u001b[0;34m()\u001b[0m\n",
      "File \u001b[0;32m/home/h05/kdonkers/.conda/envs/time-series-forecast/lib/python3.9/site-packages/pandas/_libs/index.pyx:163\u001b[0m, in \u001b[0;36mpandas._libs.index.IndexEngine.get_loc\u001b[0;34m()\u001b[0m\n",
      "File \u001b[0;32mpandas/_libs/hashtable_class_helper.pxi:5198\u001b[0m, in \u001b[0;36mpandas._libs.hashtable.PyObjectHashTable.get_item\u001b[0;34m()\u001b[0m\n",
      "File \u001b[0;32mpandas/_libs/hashtable_class_helper.pxi:5206\u001b[0m, in \u001b[0;36mpandas._libs.hashtable.PyObjectHashTable.get_item\u001b[0;34m()\u001b[0m\n",
      "\u001b[0;31mKeyError\u001b[0m: 'Datetime'",
      "\nThe above exception was the direct cause of the following exception:\n",
      "\u001b[0;31mKeyError\u001b[0m                                  Traceback (most recent call last)",
      "Input \u001b[0;32mIn [10]\u001b[0m, in \u001b[0;36m<cell line: 1>\u001b[0;34m()\u001b[0m\n\u001b[0;32m----> 1\u001b[0m split_point \u001b[38;5;241m=\u001b[39m europlt_wind\u001b[38;5;241m.\u001b[39mindex[\u001b[43meuroplt_wind\u001b[49m\u001b[43m[\u001b[49m\u001b[38;5;124;43m'\u001b[39;49m\u001b[38;5;124;43mDatetime\u001b[39;49m\u001b[38;5;124;43m'\u001b[39;49m\u001b[43m]\u001b[49m \u001b[38;5;241m==\u001b[39m \u001b[38;5;124m'\u001b[39m\u001b[38;5;124m31/12/2019 23:50\u001b[39m\u001b[38;5;124m'\u001b[39m]\n\u001b[1;32m      2\u001b[0m wind_train \u001b[38;5;241m=\u001b[39m wind_vals[\u001b[38;5;241m0\u001b[39m:split_point[\u001b[38;5;241m0\u001b[39m]]\n\u001b[1;32m      3\u001b[0m wind_test \u001b[38;5;241m=\u001b[39m wind_vals[split_point[\u001b[38;5;241m0\u001b[39m]: \u001b[38;5;28mlen\u001b[39m(wind_vals)]\n",
      "File \u001b[0;32m/home/h05/kdonkers/.conda/envs/time-series-forecast/lib/python3.9/site-packages/pandas/core/frame.py:3505\u001b[0m, in \u001b[0;36mDataFrame.__getitem__\u001b[0;34m(self, key)\u001b[0m\n\u001b[1;32m   3503\u001b[0m \u001b[38;5;28;01mif\u001b[39;00m \u001b[38;5;28mself\u001b[39m\u001b[38;5;241m.\u001b[39mcolumns\u001b[38;5;241m.\u001b[39mnlevels \u001b[38;5;241m>\u001b[39m \u001b[38;5;241m1\u001b[39m:\n\u001b[1;32m   3504\u001b[0m     \u001b[38;5;28;01mreturn\u001b[39;00m \u001b[38;5;28mself\u001b[39m\u001b[38;5;241m.\u001b[39m_getitem_multilevel(key)\n\u001b[0;32m-> 3505\u001b[0m indexer \u001b[38;5;241m=\u001b[39m \u001b[38;5;28;43mself\u001b[39;49m\u001b[38;5;241;43m.\u001b[39;49m\u001b[43mcolumns\u001b[49m\u001b[38;5;241;43m.\u001b[39;49m\u001b[43mget_loc\u001b[49m\u001b[43m(\u001b[49m\u001b[43mkey\u001b[49m\u001b[43m)\u001b[49m\n\u001b[1;32m   3506\u001b[0m \u001b[38;5;28;01mif\u001b[39;00m is_integer(indexer):\n\u001b[1;32m   3507\u001b[0m     indexer \u001b[38;5;241m=\u001b[39m [indexer]\n",
      "File \u001b[0;32m/home/h05/kdonkers/.conda/envs/time-series-forecast/lib/python3.9/site-packages/pandas/core/indexes/base.py:3623\u001b[0m, in \u001b[0;36mIndex.get_loc\u001b[0;34m(self, key, method, tolerance)\u001b[0m\n\u001b[1;32m   3621\u001b[0m     \u001b[38;5;28;01mreturn\u001b[39;00m \u001b[38;5;28mself\u001b[39m\u001b[38;5;241m.\u001b[39m_engine\u001b[38;5;241m.\u001b[39mget_loc(casted_key)\n\u001b[1;32m   3622\u001b[0m \u001b[38;5;28;01mexcept\u001b[39;00m \u001b[38;5;167;01mKeyError\u001b[39;00m \u001b[38;5;28;01mas\u001b[39;00m err:\n\u001b[0;32m-> 3623\u001b[0m     \u001b[38;5;28;01mraise\u001b[39;00m \u001b[38;5;167;01mKeyError\u001b[39;00m(key) \u001b[38;5;28;01mfrom\u001b[39;00m \u001b[38;5;21;01merr\u001b[39;00m\n\u001b[1;32m   3624\u001b[0m \u001b[38;5;28;01mexcept\u001b[39;00m \u001b[38;5;167;01mTypeError\u001b[39;00m:\n\u001b[1;32m   3625\u001b[0m     \u001b[38;5;66;03m# If we have a listlike key, _check_indexing_error will raise\u001b[39;00m\n\u001b[1;32m   3626\u001b[0m     \u001b[38;5;66;03m#  InvalidIndexError. Otherwise we fall through and re-raise\u001b[39;00m\n\u001b[1;32m   3627\u001b[0m     \u001b[38;5;66;03m#  the TypeError.\u001b[39;00m\n\u001b[1;32m   3628\u001b[0m     \u001b[38;5;28mself\u001b[39m\u001b[38;5;241m.\u001b[39m_check_indexing_error(key)\n",
      "\u001b[0;31mKeyError\u001b[0m: 'Datetime'"
     ]
    }
   ],
   "source": [
    "split_point = europlt_wind.index[europlt_wind['Datetime'] == '31/12/2019 23:50']\n",
    "wind_train = wind_vals[0:split_point[0]]\n",
    "wind_test = wind_vals[split_point[0]: len(wind_vals)]"
   ]
  },
  {
   "cell_type": "markdown",
   "metadata": {},
   "source": [
    "### Next steps:\n",
    "- ARIMA relies on timeseries repeating behaviour. \n",
    "- FInd if the timeseries is auto correlated or partially autocorrelated. "
   ]
  },
  {
   "cell_type": "markdown",
   "metadata": {},
   "source": [
    "### ACF and PACF plots"
   ]
  },
  {
   "cell_type": "code",
   "execution_count": 12,
   "metadata": {},
   "outputs": [
    {
     "data": {
      "image/png": "[encoded data removed]",
      "text/plain": [
       "<Figure size 864x288 with 2 Axes>"
      ]
     },
     "metadata": {
      "needs_background": "light"
     },
     "output_type": "display_data"
    }
   ],
   "source": [
    "fig, axes = plt.subplots(1, 2, sharey=False, sharex=False)\n",
    "fig.set_figwidth(12)\n",
    "fig.set_figheight(4)\n",
    "smt.graphics.plot_acf(~np.isnan(wind_train), lags=30, ax=axes[0], alpha=0.5)\n",
    "smt.graphics.plot_pacf(~np.isnan(wind_train), lags=30, ax=axes[1], alpha=0.5)\n",
    "plt.tight_layout()"
   ]
  },
  {
   "cell_type": "markdown",
   "metadata": {},
   "source": [
    "-Highly autocorrelated, implies high wind follows high wind and low wind follows low wind - strong trends. "
   ]
  },
  {
   "cell_type": "markdown",
   "metadata": {},
   "source": [
    "- If there is seasonality, it will be better if we try all combinations of different parameters and choose the best set ofparameters that gives less AIC score."
   ]
  },
  {
   "cell_type": "markdown",
   "metadata": {},
   "source": [
    "### Parameters - p, d, q\n",
    "- From above, d is known to be 1 (high autocorrelation). Also for 10 minute data, set seasonality = 0. \n",
    "- try all possible parameters and choose the best set of parameters that gives less AIC score for p and q."
   ]
  },
  {
   "cell_type": "code",
   "execution_count": 10,
   "metadata": {},
   "outputs": [],
   "source": [
    "# Define the p, d and q parameters to take any value between 0 and 5\n",
    "d = 1\n",
    "\n",
    "p = q = range(0, 3)\n",
    "\n",
    "pq_vals = list(itertools.product(p, q))\n",
    "\n",
    "# Generate all different combinations of seasonal p, q and q triplets\n",
    "pdq = [(x[0], 1, x[1]) for x in list(itertools.product(p, q))]"
   ]
  },
  {
   "cell_type": "code",
   "execution_count": 11,
   "metadata": {},
   "outputs": [
    {
     "data": {
      "text/plain": [
       "[(0, 1, 0),\n",
       " (0, 1, 1),\n",
       " (0, 1, 2),\n",
       " (1, 1, 0),\n",
       " (1, 1, 1),\n",
       " (1, 1, 2),\n",
       " (2, 1, 0),\n",
       " (2, 1, 1),\n",
       " (2, 1, 2)]"
      ]
     },
     "execution_count": 11,
     "metadata": {},
     "output_type": "execute_result"
    }
   ],
   "source": [
    "pdq"
   ]
  },
  {
   "cell_type": "code",
   "execution_count": 12,
   "metadata": {},
   "outputs": [],
   "source": [
    "AIC_scores_list = []"
   ]
  },
  {
   "cell_type": "code",
   "execution_count": 19,
   "metadata": {},
   "outputs": [
    {
     "name": "stderr",
     "output_type": "stream",
     "text": [
      " This problem is unconstrained.\n"
     ]
    },
    {
     "name": "stdout",
     "output_type": "stream",
     "text": [
      "RUNNING THE L-BFGS-B CODE\n",
      "\n",
      "           * * *\n",
      "\n",
      "Machine precision = 2.220D-16\n",
      " N =            1     M =           10\n",
      "\n",
      "At X0         0 variables are exactly at the bounds\n",
      "\n",
      "At iterate    0    f=  3.18784D+03    |proj g|=  5.90453D+06\n",
      "\n",
      "At iterate    5    f= -1.04355D+00    |proj g|=  1.62501D-04\n",
      "\n",
      "           * * *\n",
      "\n",
      "Tit   = total number of iterations\n",
      "Tnf   = total number of function evaluations\n",
      "Tnint = total number of segments explored during Cauchy searches\n",
      "Skip  = number of BFGS updates skipped\n",
      "Nact  = number of active bounds at final generalized Cauchy point\n",
      "Projg = norm of the final projected gradient\n",
      "F     = final function value\n",
      "\n",
      "           * * *\n",
      "\n",
      "   N    Tit     Tnf  Tnint  Skip  Nact     Projg        F\n",
      "    1      6     36      1     0     0   1.623D-04  -1.044D+00\n",
      "  F =  -1.0435543005249310     \n",
      "\n",
      "CONVERGENCE: REL_REDUCTION_OF_F_<=_FACTR*EPSMCH             \n"
     ]
    },
    {
     "name": "stderr",
     "output_type": "stream",
     "text": [
      "\n",
      " Warning:  more than 10 function and gradient\n",
      "   evaluations in the last line search.  Termination\n",
      "   may possibly be caused by a bad search direction.\n"
     ]
    },
    {
     "name": "stdout",
     "output_type": "stream",
     "text": [
      "RUNNING THE L-BFGS-B CODE\n",
      "\n",
      "           * * *\n",
      "\n",
      "Machine precision = 2.220D-16\n",
      " N =            2     M =           10\n",
      "\n",
      "At X0         0 variables are exactly at the bounds\n",
      "\n",
      "At iterate    0    f= -6.37897D-01    |proj g|=  1.26380D+01\n"
     ]
    },
    {
     "name": "stderr",
     "output_type": "stream",
     "text": [
      " This problem is unconstrained.\n"
     ]
    },
    {
     "name": "stdout",
     "output_type": "stream",
     "text": [
      "\n",
      "At iterate    5    f= -8.34517D-01    |proj g|=  5.94290D-01\n",
      "\n",
      "At iterate   10    f= -1.18692D+00    |proj g|=  8.92197D-03\n",
      "\n",
      "           * * *\n",
      "\n",
      "Tit   = total number of iterations\n",
      "Tnf   = total number of function evaluations\n",
      "Tnint = total number of segments explored during Cauchy searches\n",
      "Skip  = number of BFGS updates skipped\n",
      "Nact  = number of active bounds at final generalized Cauchy point\n",
      "Projg = norm of the final projected gradient\n",
      "F     = final function value\n",
      "\n",
      "           * * *\n",
      "\n",
      "   N    Tit     Tnf  Tnint  Skip  Nact     Projg        F\n",
      "    2     13     30      1     0     0   1.090D-03  -1.187D+00\n",
      "  F =  -1.1869269574157946     \n",
      "\n",
      "CONVERGENCE: REL_REDUCTION_OF_F_<=_FACTR*EPSMCH             \n"
     ]
    },
    {
     "name": "stderr",
     "output_type": "stream",
     "text": [
      "\n",
      " Warning:  more than 10 function and gradient\n",
      "   evaluations in the last line search.  Termination\n",
      "   may possibly be caused by a bad search direction.\n"
     ]
    },
    {
     "name": "stdout",
     "output_type": "stream",
     "text": [
      "RUNNING THE L-BFGS-B CODE\n",
      "\n",
      "           * * *\n",
      "\n",
      "Machine precision = 2.220D-16\n",
      " N =            3     M =           10\n",
      "\n",
      "At X0         0 variables are exactly at the bounds\n",
      "\n",
      "At iterate    0    f= -6.79197D-01    |proj g|=  1.16691D+01\n"
     ]
    },
    {
     "name": "stderr",
     "output_type": "stream",
     "text": [
      " This problem is unconstrained.\n"
     ]
    },
    {
     "name": "stdout",
     "output_type": "stream",
     "text": [
      "\n",
      "At iterate    5    f= -8.51463D-01    |proj g|=  5.74815D-01\n",
      "\n",
      "At iterate   10    f= -1.19155D+00    |proj g|=  4.31422D-01\n",
      "\n",
      "At iterate   15    f= -1.19206D+00    |proj g|=  5.34955D-02\n",
      "\n",
      "At iterate   20    f= -1.19224D+00    |proj g|=  9.62029D-05\n"
     ]
    },
    {
     "name": "stderr",
     "output_type": "stream",
     "text": [
      "\n",
      " Bad direction in the line search;\n",
      "   refresh the lbfgs memory and restart the iteration.\n",
      "\n",
      " Line search cannot locate an adequate point after MAXLS\n",
      "  function and gradient evaluations.\n",
      "  Previous x, f and g restored.\n",
      " Possible causes: 1 error in function or gradient evaluation;\n",
      "                  2 rounding error dominate computation.\n"
     ]
    },
    {
     "name": "stdout",
     "output_type": "stream",
     "text": [
      "\n",
      "           * * *\n",
      "\n",
      "Tit   = total number of iterations\n",
      "Tnf   = total number of function evaluations\n",
      "Tnint = total number of segments explored during Cauchy searches\n",
      "Skip  = number of BFGS updates skipped\n",
      "Nact  = number of active bounds at final generalized Cauchy point\n",
      "Projg = norm of the final projected gradient\n",
      "F     = final function value\n",
      "\n",
      "           * * *\n",
      "\n",
      "   N    Tit     Tnf  Tnint  Skip  Nact     Projg        F\n",
      "    3     21     65      2     0     0   9.620D-05  -1.192D+00\n",
      "  F =  -1.1922444995213350     \n",
      "\n",
      "ABNORMAL_TERMINATION_IN_LNSRCH                              \n",
      "RUNNING THE L-BFGS-B CODE\n",
      "\n",
      "           * * *\n",
      "\n",
      "Machine precision = 2.220D-16\n",
      " N =            2     M =           10\n",
      "\n",
      "At X0         0 variables are exactly at the bounds\n",
      "\n",
      "At iterate    0    f= -7.42761D-01    |proj g|=  9.99722D+00\n"
     ]
    },
    {
     "name": "stderr",
     "output_type": "stream",
     "text": [
      " This problem is unconstrained.\n"
     ]
    },
    {
     "name": "stdout",
     "output_type": "stream",
     "text": [
      "\n",
      "At iterate    5    f= -8.51944D-01    |proj g|=  4.38619D-01\n",
      "\n",
      "At iterate   10    f= -1.12073D+00    |proj g|=  1.71101D+00\n",
      "\n",
      "At iterate   15    f= -1.13259D+00    |proj g|=  1.85341D-04\n",
      "\n",
      "           * * *\n",
      "\n",
      "Tit   = total number of iterations\n",
      "Tnf   = total number of function evaluations\n",
      "Tnint = total number of segments explored during Cauchy searches\n",
      "Skip  = number of BFGS updates skipped\n",
      "Nact  = number of active bounds at final generalized Cauchy point\n",
      "Projg = norm of the final projected gradient\n",
      "F     = final function value\n",
      "\n",
      "           * * *\n",
      "\n",
      "   N    Tit     Tnf  Tnint  Skip  Nact     Projg        F\n",
      "    2     15     20      1     0     0   1.853D-04  -1.133D+00\n",
      "  F =  -1.1325919264874273     \n",
      "\n",
      "CONVERGENCE: REL_REDUCTION_OF_F_<=_FACTR*EPSMCH             \n",
      "RUNNING THE L-BFGS-B CODE\n",
      "\n",
      "           * * *\n",
      "\n",
      "Machine precision = 2.220D-16\n",
      " N =            3     M =           10\n",
      "\n",
      "At X0         0 variables are exactly at the bounds\n",
      "\n",
      "At iterate    0    f= -6.81045D-01    |proj g|=  1.17233D+01\n"
     ]
    },
    {
     "name": "stderr",
     "output_type": "stream",
     "text": [
      " This problem is unconstrained.\n"
     ]
    },
    {
     "name": "stdout",
     "output_type": "stream",
     "text": [
      "\n",
      "At iterate    5    f= -9.17885D-01    |proj g|=  3.96176D+00\n",
      "\n",
      "At iterate   10    f= -1.17128D+00    |proj g|=  9.47581D-01\n",
      "\n",
      "At iterate   15    f= -1.19342D+00    |proj g|=  3.65946D-02\n",
      "\n",
      "           * * *\n",
      "\n",
      "Tit   = total number of iterations\n",
      "Tnf   = total number of function evaluations\n",
      "Tnint = total number of segments explored during Cauchy searches\n",
      "Skip  = number of BFGS updates skipped\n",
      "Nact  = number of active bounds at final generalized Cauchy point\n",
      "Projg = norm of the final projected gradient\n",
      "F     = final function value\n",
      "\n",
      "           * * *\n",
      "\n",
      "   N    Tit     Tnf  Tnint  Skip  Nact     Projg        F\n",
      "    3     19     25      1     0     0   1.843D-05  -1.193D+00\n",
      "  F =  -1.1934685952601638     \n",
      "\n",
      "CONVERGENCE: REL_REDUCTION_OF_F_<=_FACTR*EPSMCH             \n"
     ]
    },
    {
     "name": "stderr",
     "output_type": "stream",
     "text": [
      " This problem is unconstrained.\n"
     ]
    },
    {
     "name": "stdout",
     "output_type": "stream",
     "text": [
      "RUNNING THE L-BFGS-B CODE\n",
      "\n",
      "           * * *\n",
      "\n",
      "Machine precision = 2.220D-16\n",
      " N =            4     M =           10\n",
      "\n",
      "At X0         0 variables are exactly at the bounds\n",
      "\n",
      "At iterate    0    f= -6.66475D-01    |proj g|=  1.22039D+01\n",
      "\n",
      "At iterate    5    f= -8.33427D-01    |proj g|=  4.57669D-01\n",
      "\n",
      "At iterate   10    f= -1.07158D+00    |proj g|=  1.83037D-01\n",
      "\n",
      "At iterate   15    f= -1.19479D+00    |proj g|=  4.63505D-01\n",
      "\n",
      "At iterate   20    f= -1.19610D+00    |proj g|=  1.96207D-03\n",
      "\n",
      "At iterate   25    f= -1.19624D+00    |proj g|=  1.54018D-01\n",
      "\n",
      "At iterate   30    f= -1.19747D+00    |proj g|=  6.82354D-02\n",
      "\n",
      "At iterate   35    f= -1.19772D+00    |proj g|=  5.34338D-04\n",
      "\n",
      "           * * *\n",
      "\n",
      "Tit   = total number of iterations\n",
      "Tnf   = total number of function evaluations\n",
      "Tnint = total number of segments explored during Cauchy searches\n",
      "Skip  = number of BFGS updates skipped\n",
      "Nact  = number of active bounds at final generalized Cauchy point\n",
      "Projg = norm of the final projected gradient\n",
      "F     = final function value\n",
      "\n",
      "           * * *\n",
      "\n",
      "   N    Tit     Tnf  Tnint  Skip  Nact     Projg        F\n",
      "    4     38     48      1     0     0   1.159D-04  -1.198D+00\n",
      "  F =  -1.1977242298805415     \n",
      "\n",
      "CONVERGENCE: REL_REDUCTION_OF_F_<=_FACTR*EPSMCH             \n"
     ]
    },
    {
     "name": "stderr",
     "output_type": "stream",
     "text": [
      " This problem is unconstrained.\n"
     ]
    },
    {
     "name": "stdout",
     "output_type": "stream",
     "text": [
      "RUNNING THE L-BFGS-B CODE\n",
      "\n",
      "           * * *\n",
      "\n",
      "Machine precision = 2.220D-16\n",
      " N =            3     M =           10\n",
      "\n",
      "At X0         0 variables are exactly at the bounds\n",
      "\n",
      "At iterate    0    f= -6.95217D-01    |proj g|=  1.13175D+01\n",
      "\n",
      "At iterate    5    f= -8.54616D-01    |proj g|=  4.49905D-01\n",
      "\n",
      "At iterate   10    f= -1.03196D+00    |proj g|=  6.54441D-01\n",
      "\n",
      "At iterate   15    f= -1.16074D+00    |proj g|=  5.98507D-02\n",
      "\n",
      "At iterate   20    f= -1.16084D+00    |proj g|=  5.06892D-05\n",
      "\n",
      "           * * *\n",
      "\n",
      "Tit   = total number of iterations\n",
      "Tnf   = total number of function evaluations\n",
      "Tnint = total number of segments explored during Cauchy searches\n",
      "Skip  = number of BFGS updates skipped\n",
      "Nact  = number of active bounds at final generalized Cauchy point\n",
      "Projg = norm of the final projected gradient\n",
      "F     = final function value\n",
      "\n",
      "           * * *\n",
      "\n",
      "   N    Tit     Tnf  Tnint  Skip  Nact     Projg        F\n",
      "    3     20     31      1     0     0   5.069D-05  -1.161D+00\n",
      "  F =  -1.1608432192901574     \n",
      "\n",
      "CONVERGENCE: REL_REDUCTION_OF_F_<=_FACTR*EPSMCH             \n"
     ]
    },
    {
     "name": "stderr",
     "output_type": "stream",
     "text": [
      " This problem is unconstrained.\n"
     ]
    },
    {
     "name": "stdout",
     "output_type": "stream",
     "text": [
      "RUNNING THE L-BFGS-B CODE\n",
      "\n",
      "           * * *\n",
      "\n",
      "Machine precision = 2.220D-16\n",
      " N =            4     M =           10\n",
      "\n",
      "At X0         0 variables are exactly at the bounds\n",
      "\n",
      "At iterate    0    f= -1.03389D+00    |proj g|=  2.70355D+00\n",
      "\n",
      "At iterate    5    f= -1.16233D+00    |proj g|=  1.25189D-01\n",
      "\n",
      "At iterate   10    f= -1.17303D+00    |proj g|=  3.38527D-01\n",
      "\n",
      "At iterate   15    f= -1.17383D+00    |proj g|=  2.78898D-01\n",
      "\n",
      "At iterate   20    f= -1.18797D+00    |proj g|=  1.20785D+00\n",
      "\n",
      "At iterate   25    f= -1.19547D+00    |proj g|=  1.34033D-02\n",
      "\n",
      "           * * *\n",
      "\n",
      "Tit   = total number of iterations\n",
      "Tnf   = total number of function evaluations\n",
      "Tnint = total number of segments explored during Cauchy searches\n",
      "Skip  = number of BFGS updates skipped\n",
      "Nact  = number of active bounds at final generalized Cauchy point\n",
      "Projg = norm of the final projected gradient\n",
      "F     = final function value\n",
      "\n",
      "           * * *\n",
      "\n",
      "   N    Tit     Tnf  Tnint  Skip  Nact     Projg        F\n",
      "    4     29     37      1     0     0   7.397D-06  -1.195D+00\n",
      "  F =  -1.1954708953572291     \n",
      "\n",
      "CONVERGENCE: NORM_OF_PROJECTED_GRADIENT_<=_PGTOL            \n"
     ]
    },
    {
     "name": "stderr",
     "output_type": "stream",
     "text": [
      " This problem is unconstrained.\n"
     ]
    },
    {
     "name": "stdout",
     "output_type": "stream",
     "text": [
      "RUNNING THE L-BFGS-B CODE\n",
      "\n",
      "           * * *\n",
      "\n",
      "Machine precision = 2.220D-16\n",
      " N =            5     M =           10\n",
      "\n",
      "At X0         0 variables are exactly at the bounds\n",
      "\n",
      "At iterate    0    f= -6.65819D-01    |proj g|=  1.22212D+01\n",
      "\n",
      "At iterate    5    f= -8.91975D-01    |proj g|=  2.89789D+00\n",
      "\n",
      "At iterate   10    f= -1.02372D+00    |proj g|=  1.82259D-01\n",
      "\n",
      "At iterate   15    f= -1.13931D+00    |proj g|=  4.21717D-01\n",
      "\n",
      "At iterate   20    f= -1.18652D+00    |proj g|=  3.34238D-01\n",
      "\n",
      "At iterate   25    f= -1.19590D+00    |proj g|=  1.22383D-03\n",
      "\n",
      "At iterate   30    f= -1.19680D+00    |proj g|=  1.73449D-02\n",
      "\n",
      "At iterate   35    f= -1.19822D+00    |proj g|=  4.74467D-02\n",
      "\n",
      "At iterate   40    f= -1.19863D+00    |proj g|=  5.54615D-02\n",
      "\n",
      "At iterate   45    f= -1.19881D+00    |proj g|=  3.87150D-03\n",
      "\n",
      "At iterate   50    f= -1.19883D+00    |proj g|=  3.01561D-04\n",
      "\n",
      "           * * *\n",
      "\n",
      "Tit   = total number of iterations\n",
      "Tnf   = total number of function evaluations\n",
      "Tnint = total number of segments explored during Cauchy searches\n",
      "Skip  = number of BFGS updates skipped\n",
      "Nact  = number of active bounds at final generalized Cauchy point\n",
      "Projg = norm of the final projected gradient\n",
      "F     = final function value\n",
      "\n",
      "           * * *\n",
      "\n",
      "   N    Tit     Tnf  Tnint  Skip  Nact     Projg        F\n",
      "    5     50     66      1     0     0   3.016D-04  -1.199D+00\n",
      "  F =  -1.1988279422446009     \n",
      "\n",
      "STOP: TOTAL NO. of ITERATIONS REACHED LIMIT                 \n",
      "Best SARIMAX(2, 1, 2) model - AIC:-2108848.2332024775\n"
     ]
    }
   ],
   "source": [
    "best_aic = np.inf\n",
    "best_pdq = None\n",
    "temp_model = None\n",
    "for param in pdq:\n",
    "        try:\n",
    "            \n",
    "            temp_model = sm.tsa.statespace.SARIMAX(~np.isnan(wind_train),\n",
    "                                             order = param,\n",
    "                                             enforce_stationarity=True,\n",
    "                                             enforce_invertibility=True)\n",
    "            results = temp_model.fit()\n",
    "            l = []\n",
    "            l.append(param[0])\n",
    "            l.append(param[1])\n",
    "            l.append(param[2])\n",
    "            l.append(results.aic)\n",
    "            AIC_scores_list.append(l)\n",
    "            if results.aic < best_aic:\n",
    "                best_aic = results.aic\n",
    "                best_pdq = param\n",
    "        except:\n",
    "            continue\n",
    "\n",
    "print(\"Best SARIMAX{} model - AIC:{}\".format(best_pdq, best_aic))"
   ]
  },
  {
   "cell_type": "code",
   "execution_count": 20,
   "metadata": {},
   "outputs": [
    {
     "name": "stdout",
     "output_type": "stream",
     "text": [
      "[[0, 1, 0, -1835714.3700534063], [0, 1, 1, -2087919.2107901243], [0, 1, 2, -2097271.2991079804], [1, 1, 0, -1992338.4578840334], [1, 1, 1, -2099424.605922154], [1, 1, 2, -2106908.6927828607], [2, 1, 0, -2042033.307053316], [2, 1, 1, -2102944.8520229016], [2, 1, 2, -2108848.2332024775]]\n",
      "(2, 1, 2)\n",
      "-2108848.2332024775\n"
     ]
    }
   ],
   "source": [
    "print(AIC_scores_list)\n",
    "print(best_pdq)\n",
    "print(best_aic)\n",
    "\n",
    "#AIC_scores = pd.DataFrame.from_records(AIC_scores_list)\n",
    "#AIC_scores.columns=['p', 'd', 'q', 'AIC']\n",
    "#AIC_scores.iloc[AIC_scores['AIC'].argmin()]"
   ]
  },
  {
   "cell_type": "markdown",
   "metadata": {},
   "source": [
    "### Analysis:\n",
    "- After fitting the data with different combination of models, we got the best parameters as following:\n",
    "    - p = 2, d = 1, q = 2\n",
    "    "
   ]
  },
  {
   "cell_type": "code",
   "execution_count": 21,
   "metadata": {},
   "outputs": [],
   "source": [
    "best_pdq = (2, 1, 2)"
   ]
  },
  {
   "cell_type": "markdown",
   "metadata": {},
   "source": [
    "### Use the best parameters and build a model"
   ]
  },
  {
   "cell_type": "code",
   "execution_count": 22,
   "metadata": {},
   "outputs": [
    {
     "name": "stderr",
     "output_type": "stream",
     "text": [
      " This problem is unconstrained.\n"
     ]
    },
    {
     "name": "stdout",
     "output_type": "stream",
     "text": [
      "RUNNING THE L-BFGS-B CODE\n",
      "\n",
      "           * * *\n",
      "\n",
      "Machine precision = 2.220D-16\n",
      " N =            5     M =           10\n",
      "\n",
      "At X0         0 variables are exactly at the bounds\n",
      "\n",
      "At iterate    0    f= -6.65819D-01    |proj g|=  1.22212D+01\n",
      "\n",
      "At iterate    5    f= -8.91975D-01    |proj g|=  2.89789D+00\n",
      "\n",
      "At iterate   10    f= -1.02372D+00    |proj g|=  1.82259D-01\n",
      "\n",
      "At iterate   15    f= -1.13931D+00    |proj g|=  4.21717D-01\n",
      "\n",
      "At iterate   20    f= -1.18652D+00    |proj g|=  3.34238D-01\n",
      "\n",
      "At iterate   25    f= -1.19590D+00    |proj g|=  1.22383D-03\n",
      "\n",
      "At iterate   30    f= -1.19680D+00    |proj g|=  1.73449D-02\n",
      "\n",
      "At iterate   35    f= -1.19822D+00    |proj g|=  4.74467D-02\n",
      "\n",
      "At iterate   40    f= -1.19863D+00    |proj g|=  5.54615D-02\n",
      "\n",
      "At iterate   45    f= -1.19881D+00    |proj g|=  3.87150D-03\n",
      "\n",
      "At iterate   50    f= -1.19883D+00    |proj g|=  3.01561D-04\n",
      "\n",
      "           * * *\n",
      "\n",
      "Tit   = total number of iterations\n",
      "Tnf   = total number of function evaluations\n",
      "Tnint = total number of segments explored during Cauchy searches\n",
      "Skip  = number of BFGS updates skipped\n",
      "Nact  = number of active bounds at final generalized Cauchy point\n",
      "Projg = norm of the final projected gradient\n",
      "F     = final function value\n",
      "\n",
      "           * * *\n",
      "\n",
      "   N    Tit     Tnf  Tnint  Skip  Nact     Projg        F\n",
      "    5     50     66      1     0     0   3.016D-04  -1.199D+00\n",
      "  F =  -1.1988279422446009     \n",
      "\n",
      "STOP: TOTAL NO. of ITERATIONS REACHED LIMIT                 \n"
     ]
    }
   ],
   "source": [
    "best_model = sm.tsa.statespace.SARIMAX(~np.isnan(wind_train),\n",
    "                                      order=best_pdq,\n",
    "                                      enforce_stationarity=True,\n",
    "                                      enforce_invertibility=True)\n",
    "best_results = best_model.fit()"
   ]
  },
  {
   "cell_type": "code",
   "execution_count": 24,
   "metadata": {},
   "outputs": [
    {
     "name": "stdout",
     "output_type": "stream",
     "text": [
      "                               SARIMAX Results                                \n",
      "==============================================================================\n",
      "Dep. Variable:                      y   No. Observations:               879550\n",
      "Model:               SARIMAX(2, 1, 2)   Log Likelihood             1054429.117\n",
      "Date:                Wed, 30 Mar 2022   AIC                       -2108848.233\n",
      "Time:                        20:24:23   BIC                       -2108789.797\n",
      "Sample:                             0   HQIC                      -2108832.069\n",
      "                             - 879550                                         \n",
      "Covariance Type:                  opg                                         \n",
      "==============================================================================\n"
     ]
    }
   ],
   "source": [
    "print(best_results.summary().tables[0])"
   ]
  },
  {
   "cell_type": "markdown",
   "metadata": {},
   "source": [
    "### Get predictions "
   ]
  },
  {
   "cell_type": "code",
   "execution_count": 26,
   "metadata": {},
   "outputs": [
    {
     "data": {
      "text/plain": [
       "Timestamp('2020-01-01 00:10:00')"
      ]
     },
     "execution_count": 26,
     "metadata": {},
     "output_type": "execute_result"
    }
   ],
   "source": [
    "pd.to_datetime('2020-01-01 00:10')"
   ]
  },
  {
   "cell_type": "code",
   "execution_count": 41,
   "metadata": {},
   "outputs": [],
   "source": [
    "pred_dynamic = best_results.get_prediction(start=0, dynamic=True, full_results=True)\n",
    "pred_dynamic_ci = pred_dynamic.conf_int()"
   ]
  },
  {
   "cell_type": "markdown",
   "metadata": {},
   "source": [
    "### Extract the predicted and true values of our time series"
   ]
  },
  {
   "cell_type": "code",
   "execution_count": 46,
   "metadata": {},
   "outputs": [
    {
     "data": {
      "text/plain": [
       "0.0"
      ]
     },
     "execution_count": 46,
     "metadata": {},
     "output_type": "execute_result"
    }
   ],
   "source": [
    "wind_predicted = pred_dynamic.predicted_mean\n",
    "wind_truth = ~np.isnan(wind_test)\n",
    "np.min(wind_predicted)"
   ]
  },
  {
   "cell_type": "markdown",
   "metadata": {},
   "source": [
    "### Compute the mean square error"
   ]
  },
  {
   "cell_type": "code",
   "execution_count": 36,
   "metadata": {},
   "outputs": [
    {
     "name": "stdout",
     "output_type": "stream",
     "text": [
      "The Mean Squared Error of our predictions is 0.0949\n"
     ]
    }
   ],
   "source": [
    "mse = math.sqrt(((wind_predicted - wind_truth) ** 2).mean())\n",
    "print('The Mean Squared Error of our predictions is {}'.format(round(mse, 4)))"
   ]
  },
  {
   "cell_type": "code",
   "execution_count": 43,
   "metadata": {},
   "outputs": [
    {
     "data": {
      "text/plain": [
       "Timestamp('1994-12-01 00:00:00', freq='MS')"
      ]
     },
     "execution_count": 43,
     "metadata": {},
     "output_type": "execute_result"
    }
   ],
   "source": [
    "rainfall_data.index[-1]"
   ]
  },
  {
   "cell_type": "markdown",
   "metadata": {},
   "source": [
    "### Visuaization of true and predicted values"
   ]
  },
  {
   "cell_type": "code",
   "execution_count": 44,
   "metadata": {},
   "outputs": [],
   "source": [
    "rainfall_dummy_data = rainfall_data\n",
    "rainfall_dummy_data.columns = ['Train data']"
   ]
  },
  {
   "cell_type": "code",
   "execution_count": 45,
   "metadata": {},
   "outputs": [
    {
     "data": {
      "text/plain": [
       "<matplotlib.legend.Legend at 0x162164a60>"
      ]
     },
     "execution_count": 45,
     "metadata": {},
     "output_type": "execute_result"
    },
    {
     "data": {
      "image/png": "[encoded data removed]",
      "text/plain": [
       "<Figure size 720x432 with 1 Axes>"
      ]
     },
     "metadata": {
      "needs_background": "light"
     },
     "output_type": "display_data"
    }
   ],
   "source": [
    "# Plot the actual values.\n",
    "axis_plt = rainfall_dummy_data['1985':].plot(label='Train data', figsize=(10, 6))\n",
    "\n",
    "# Plot the predicted values.\n",
    "pred_dynamic.predicted_mean.plot(ax=axis_plt, label='Predictions')\n",
    "\n",
    "# Plot confidence values and fill it with some colour.\n",
    "# axis_plt.fill_between(pred_dynamic_ci.index, pred_dynamic_ci.iloc[:, 0], pred_dynamic_ci.iloc[:, 1], color='k', alpha=0.1)\n",
    "axis_plt.fill_betweenx(axis_plt.get_ylim(), pd.to_datetime('1990'), rainfall_data.index[-1], alpha=0.1, zorder=-1)\n",
    "\n",
    "# Set labels.\n",
    "axis_plt.set_xlabel('Years')\n",
    "axis_plt.set_ylabel('Monthly mean Precipitation')\n",
    "\n",
    "# Put legend on the plot at the best place it fits.\n",
    "plt.legend(loc='best')"
   ]
  },
  {
   "cell_type": "markdown",
   "metadata": {},
   "source": [
    "### Forecast\n",
    "- Predict Precipitation for next 7 years."
   ]
  },
  {
   "cell_type": "code",
   "execution_count": 46,
   "metadata": {},
   "outputs": [],
   "source": [
    "# Get forecast 96 steps (8 years) ahead in future\n",
    "n_steps = 96\n",
    "pred_uc_95 = best_results.get_forecast(steps=n_steps, alpha=0.05) # alpha=0.05 95% CI\n",
    "\n",
    "# Get confidence intervals 95% of the forecasts\n",
    "pred_ci_95 = pred_uc_95.conf_int()"
   ]
  },
  {
   "cell_type": "code",
   "execution_count": 47,
   "metadata": {},
   "outputs": [
    {
     "data": {
      "text/html": [
       "<div>\n",
       "<style scoped>\n",
       "    .dataframe tbody tr th:only-of-type {\n",
       "        vertical-align: middle;\n",
       "    }\n",
       "\n",
       "    .dataframe tbody tr th {\n",
       "        vertical-align: top;\n",
       "    }\n",
       "\n",
       "    .dataframe thead th {\n",
       "        text-align: right;\n",
       "    }\n",
       "</style>\n",
       "<table border=\"1\" class=\"dataframe\">\n",
       "  <thead>\n",
       "    <tr style=\"text-align: right;\">\n",
       "      <th></th>\n",
       "      <th>forecast</th>\n",
       "      <th>lower_ci_95</th>\n",
       "      <th>upper_ci_95</th>\n",
       "    </tr>\n",
       "  </thead>\n",
       "  <tbody>\n",
       "    <tr>\n",
       "      <th>1995-01-01</th>\n",
       "      <td>11.753433</td>\n",
       "      <td>-173.841143</td>\n",
       "      <td>197.348008</td>\n",
       "    </tr>\n",
       "    <tr>\n",
       "      <th>1995-02-01</th>\n",
       "      <td>12.528777</td>\n",
       "      <td>-173.065841</td>\n",
       "      <td>198.123395</td>\n",
       "    </tr>\n",
       "    <tr>\n",
       "      <th>1995-03-01</th>\n",
       "      <td>13.425796</td>\n",
       "      <td>-172.168843</td>\n",
       "      <td>199.020434</td>\n",
       "    </tr>\n",
       "    <tr>\n",
       "      <th>1995-04-01</th>\n",
       "      <td>23.487771</td>\n",
       "      <td>-162.106888</td>\n",
       "      <td>209.082430</td>\n",
       "    </tr>\n",
       "    <tr>\n",
       "      <th>1995-05-01</th>\n",
       "      <td>38.512415</td>\n",
       "      <td>-147.082264</td>\n",
       "      <td>224.107094</td>\n",
       "    </tr>\n",
       "  </tbody>\n",
       "</table>\n",
       "</div>"
      ],
      "text/plain": [
       "             forecast  lower_ci_95  upper_ci_95\n",
       "1995-01-01  11.753433  -173.841143   197.348008\n",
       "1995-02-01  12.528777  -173.065841   198.123395\n",
       "1995-03-01  13.425796  -172.168843   199.020434\n",
       "1995-04-01  23.487771  -162.106888   209.082430\n",
       "1995-05-01  38.512415  -147.082264   224.107094"
      ]
     },
     "execution_count": 47,
     "metadata": {},
     "output_type": "execute_result"
    }
   ],
   "source": [
    "# index = pd.date_range(rainfall_data.index[-1] + 1, periods=n_steps, freq='MS')\n",
    "index = pd.date_range(rainfall_data.index[-1] + 1*rainfall_data.index[-1].freq, periods=n_steps, freq='MS')\n",
    "forecast_data = pd.DataFrame(np.column_stack([pred_uc_95.predicted_mean, pred_ci_95]), \n",
    "                     index=index, columns=['forecast', 'lower_ci_95', 'upper_ci_95'])\n",
    "\n",
    "forecast_data.head()"
   ]
  },
  {
   "cell_type": "markdown",
   "metadata": {},
   "source": [
    "### Plot the forecast along with confidence band"
   ]
  },
  {
   "cell_type": "code",
   "execution_count": 48,
   "metadata": {},
   "outputs": [
    {
     "data": {
      "text/plain": [
       "<matplotlib.legend.Legend at 0x161ed67f0>"
      ]
     },
     "execution_count": 48,
     "metadata": {},
     "output_type": "execute_result"
    },
    {
     "data": {
      "image/png": "[encoded data removed]",
      "text/plain": [
       "<Figure size 1080x432 with 1 Axes>"
      ]
     },
     "metadata": {
      "needs_background": "light"
     },
     "output_type": "display_data"
    }
   ],
   "source": [
    "axis_plt = rainfall_dummy_data['1984':].plot(label='Observed', color='blue', figsize=(15, 6))\n",
    "\n",
    "test_rainfall_data.Precipitation.plot(ax=axis_plt, color='green', label='Test data')\n",
    "forecast_data['forecast'].plot(ax=axis_plt, label='Forecast', alpha=0.7, color='r')\n",
    "\n",
    "# axis_plt.fill_between(forecast_data.index, forecast_data['lower_ci_95'], forecast_data['upper_ci_95'], color='k', alpha=.25)\n",
    "\n",
    "axis_plt.set_xlabel('Years')\n",
    "axis_plt.set_ylabel('Monthly mean Precipitation')\n",
    "plt.legend(loc='best')"
   ]
  },
  {
   "cell_type": "code",
   "execution_count": 49,
   "metadata": {},
   "outputs": [],
   "source": [
    "dummy_test_data = test_rainfall_data\n",
    "dummy_test_data.columns = ['Test data']"
   ]
  },
  {
   "cell_type": "code",
   "execution_count": 50,
   "metadata": {},
   "outputs": [
    {
     "data": {
      "text/plain": [
       "<matplotlib.legend.Legend at 0x161a7df40>"
      ]
     },
     "execution_count": 50,
     "metadata": {},
     "output_type": "execute_result"
    },
    {
     "data": {
      "image/png": "[encoded data removed]",
      "text/plain": [
       "<Figure size 720x360 with 1 Axes>"
      ]
     },
     "metadata": {
      "needs_background": "light"
     },
     "output_type": "display_data"
    }
   ],
   "source": [
    "axis_plt = dummy_test_data['1996':].plot(label='Actual values', figsize=(10, 5), color='green')\n",
    "forecast_data['forecast']['1996':].plot(ax=axis_plt, label='Forecast', alpha=0.7, color='r')\n",
    "\n",
    "axis_plt.set_xlabel('Years')\n",
    "axis_plt.set_ylabel('Monthly mean Precipitation')\n",
    "plt.legend(loc='best')"
   ]
  },
  {
   "cell_type": "markdown",
   "metadata": {},
   "source": [
    "### Mean square error of the forecasts"
   ]
  },
  {
   "cell_type": "code",
   "execution_count": 51,
   "metadata": {},
   "outputs": [],
   "source": [
    "y_true = test_rainfall_data['1995-01-01':]['Test data']\n",
    "y_forecast = forecast_data['forecast']"
   ]
  },
  {
   "cell_type": "code",
   "execution_count": 52,
   "metadata": {},
   "outputs": [
    {
     "name": "stdout",
     "output_type": "stream",
     "text": [
      "The Mean Squared Error of our forecasts is 89.2525\n"
     ]
    }
   ],
   "source": [
    "mse = math.sqrt(((y_true - y_forecast) ** 2).mean())\n",
    "print('The Mean Squared Error of our forecasts is {}'.format(round(mse, 4)))"
   ]
  },
  {
   "cell_type": "markdown",
   "metadata": {},
   "source": [
    "### MAPE"
   ]
  },
  {
   "cell_type": "code",
   "execution_count": 53,
   "metadata": {},
   "outputs": [
    {
     "name": "stdout",
     "output_type": "stream",
     "text": [
      "The MAPE of our forecasts is inf\n"
     ]
    }
   ],
   "source": [
    "mape = np.mean(np.abs((y_true - y_forecast) / (y_true))) * 100\n",
    "print('The MAPE of our forecasts is {}'.format(round(mape, 4)))"
   ]
  },
  {
   "cell_type": "code",
   "execution_count": 54,
   "metadata": {},
   "outputs": [],
   "source": [
    "def mape_vectorized_v2(a, b): \n",
    "    mask = a != 0\n",
    "    return (np.fabs(a - b)/a)[mask].mean()"
   ]
  },
  {
   "cell_type": "code",
   "execution_count": 55,
   "metadata": {},
   "outputs": [
    {
     "data": {
      "text/plain": [
       "158.000619460752"
      ]
     },
     "execution_count": 55,
     "metadata": {},
     "output_type": "execute_result"
    }
   ],
   "source": [
    "mape_vectorized_v2(y_true, y_forecast)"
   ]
  },
  {
   "cell_type": "code",
   "execution_count": null,
   "metadata": {},
   "outputs": [],
   "source": []
  },
  {
   "cell_type": "code",
   "execution_count": 56,
   "metadata": {},
   "outputs": [],
   "source": [
    "RMSE_data = [['Train RMSE', 97.66, 74.58],\n",
    "            ['Test RMSE', 89.25, 91.69]]"
   ]
  },
  {
   "cell_type": "code",
   "execution_count": 57,
   "metadata": {},
   "outputs": [
    {
     "data": {
      "text/html": [
       "<div>\n",
       "<style scoped>\n",
       "    .dataframe tbody tr th:only-of-type {\n",
       "        vertical-align: middle;\n",
       "    }\n",
       "\n",
       "    .dataframe tbody tr th {\n",
       "        vertical-align: top;\n",
       "    }\n",
       "\n",
       "    .dataframe thead th {\n",
       "        text-align: right;\n",
       "    }\n",
       "</style>\n",
       "<table border=\"1\" class=\"dataframe\">\n",
       "  <thead>\n",
       "    <tr style=\"text-align: right;\">\n",
       "      <th></th>\n",
       "      <th>Type of Data</th>\n",
       "      <th>RMSE of ARIMA</th>\n",
       "      <th>RMSE of LSTM</th>\n",
       "    </tr>\n",
       "  </thead>\n",
       "  <tbody>\n",
       "    <tr>\n",
       "      <th>0</th>\n",
       "      <td>Train RMSE</td>\n",
       "      <td>97.66</td>\n",
       "      <td>74.58</td>\n",
       "    </tr>\n",
       "    <tr>\n",
       "      <th>1</th>\n",
       "      <td>Test RMSE</td>\n",
       "      <td>89.25</td>\n",
       "      <td>91.69</td>\n",
       "    </tr>\n",
       "  </tbody>\n",
       "</table>\n",
       "</div>"
      ],
      "text/plain": [
       "  Type of Data  RMSE of ARIMA  RMSE of LSTM\n",
       "0   Train RMSE          97.66         74.58\n",
       "1    Test RMSE          89.25         91.69"
      ]
     },
     "execution_count": 57,
     "metadata": {},
     "output_type": "execute_result"
    }
   ],
   "source": [
    "RMSE_data_df = pd.DataFrame.from_records(RMSE_data)\n",
    "RMSE_data_df.columns = ['Type of Data', 'RMSE of ARIMA', 'RMSE of LSTM']\n",
    "RMSE_data_df"
   ]
  },
  {
   "cell_type": "code",
   "execution_count": 58,
   "metadata": {},
   "outputs": [
    {
     "data": {
      "text/plain": [
       "Text(0.5, 1.0, 'ARIMA - Train and Test RMSE')"
      ]
     },
     "execution_count": 58,
     "metadata": {},
     "output_type": "execute_result"
    },
    {
     "data": {
      "image/png": "[encoded data removed]",
      "text/plain": [
       "<Figure size 432x288 with 1 Axes>"
      ]
     },
     "metadata": {
      "needs_background": "light"
     },
     "output_type": "display_data"
    }
   ],
   "source": [
    "g = sns.barplot(x='Type of Data', y='RMSE of ARIMA', data=RMSE_data_df, palette='spring')\n",
    "for index, row in RMSE_data_df.iterrows():\n",
    "    g.text(row.name, row['RMSE of ARIMA'], round(row['RMSE of ARIMA'],2), color='black', ha=\"center\")\n",
    "plt.title('ARIMA - Train and Test RMSE')"
   ]
  },
  {
   "cell_type": "code",
   "execution_count": 59,
   "metadata": {},
   "outputs": [
    {
     "data": {
      "text/plain": [
       "Text(0.5, 1.0, 'LSTM - Train and Test RMSE')"
      ]
     },
     "execution_count": 59,
     "metadata": {},
     "output_type": "execute_result"
    },
    {
     "data": {
      "image/png": "[encoded data removed]",
      "text/plain": [
       "<Figure size 432x288 with 1 Axes>"
      ]
     },
     "metadata": {
      "needs_background": "light"
     },
     "output_type": "display_data"
    }
   ],
   "source": [
    "g = sns.barplot(x='Type of Data', y='RMSE of LSTM', data=RMSE_data_df, palette='spring')\n",
    "for index, row in RMSE_data_df.iterrows():\n",
    "    g.text(row.name, row['RMSE of LSTM'], round(row['RMSE of LSTM'],2), color='black', ha=\"center\")\n",
    "plt.title('LSTM - Train and Test RMSE')"
   ]
  },
  {
   "cell_type": "code",
   "execution_count": 60,
   "metadata": {},
   "outputs": [
    {
     "data": {
      "text/plain": [
       "Text(0.5, 1.0, 'Comparison of train and test RMSE of two algorithms')"
      ]
     },
     "execution_count": 60,
     "metadata": {},
     "output_type": "execute_result"
    },
    {
     "data": {
      "image/png": "[encoded data removed]",
      "text/plain": [
       "<Figure size 432x288 with 1 Axes>"
      ]
     },
     "metadata": {
      "needs_background": "light"
     },
     "output_type": "display_data"
    }
   ],
   "source": [
    "RMSE_data_df.plot(x=\"Type of Data\", y=[\"RMSE of ARIMA\", \"RMSE of LSTM\"], kind=\"bar\")\n",
    "plt.title('Comparison of train and test RMSE of two algorithms')"
   ]
  },
  {
   "cell_type": "code",
   "execution_count": null,
   "metadata": {},
   "outputs": [],
   "source": [
    "# Throws an error, unsure why\n",
    "sns.barplot(x='Type of Data', y=['RMSE of ARIMA', 'RMSE of LSTM'], hue='Type of Data', data=RMSE_data_df, palette='spring')"
   ]
  }
 ],
 "metadata": {
  "kernelspec": {
   "display_name": "Python 3 (ipykernel)",
   "language": "python",
   "name": "python3"
  },
  "language_info": {
   "codemirror_mode": {
    "name": "ipython",
    "version": 3
   },
   "file_extension": ".py",
   "mimetype": "text/x-python",
   "name": "python",
   "nbconvert_exporter": "python",
   "pygments_lexer": "ipython3",
   "version": "3.9.10"
  }
 },
 "nbformat": 4,
 "nbformat_minor": 4
}
