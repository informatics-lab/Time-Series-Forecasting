{
 "cells": [
  {
   "cell_type": "markdown",
   "metadata": {},
   "source": [
    "# <center>Time Series Analysis on Europlt tower, interpolate from 10 minute data.</center>"
   ]
  },
  {
   "cell_type": "markdown",
   "metadata": {},
   "source": [
    "## <center>(WORKING)Algorithm: Auto Regressive Integrated Moving Average model(ARIMA)</center>"
   ]
  },
  {
   "cell_type": "markdown",
   "metadata": {
    "tags": []
   },
   "source": [
    "### Import libraries"
   ]
  },
  {
   "cell_type": "code",
   "execution_count": 2,
   "metadata": {},
   "outputs": [],
   "source": [
    "import numpy as np\n",
    "import pandas as pd\n",
    "import math\n",
    "\n",
    "import statsmodels.api as sm\n",
    "import statsmodels.tsa.api as smt\n",
    "import statsmodels.formula.api as smf\n",
    "from statsmodels.tsa.stattools import adfuller\n",
    "from sklearn.metrics import mean_squared_error\n",
    "\n",
    "import matplotlib.pyplot as plt\n",
    "%matplotlib inline\n",
    "import seaborn as sns\n",
    "\n",
    "import itertools\n",
    "import warnings\n",
    "warnings.filterwarnings('ignore')"
   ]
  },
  {
   "cell_type": "markdown",
   "metadata": {
    "tags": []
   },
   "source": [
    "### Filename"
   ]
  },
  {
   "cell_type": "code",
   "execution_count": 3,
   "metadata": {},
   "outputs": [],
   "source": [
    "filename ='europlt_processed.csv'"
   ]
  },
  {
   "cell_type": "markdown",
   "metadata": {
    "tags": []
   },
   "source": [
    "### Data\n",
    "\n",
    "#### Cleaned tower data from KNMI, Dutch meteorological service, with 10 minutes intervals of wind speed\n",
    "#### KNMI wind speed and direction observations\n",
    "#### Europlatform station\n",
    "#### Lat: 51.9978 Lon: 3.275 z: 29m above mean sea level\n",
    "#### inititally collected from https://dataplatform.knmi.nl/dataset/windggevens-1-0\n",
    "#### fields - wind speed FF_10m_10 (m/s)\n",
    "#### gust speed FF_SENSOR_10 (m/s)\n",
    "#### wind direction: DDN_10 (degrees)"
   ]
  },
  {
   "cell_type": "code",
   "execution_count": 4,
   "metadata": {
    "tags": []
   },
   "outputs": [
    {
     "data": {
      "text/html": [
       "<div>\n",
       "<style scoped>\n",
       "    .dataframe tbody tr th:only-of-type {\n",
       "        vertical-align: middle;\n",
       "    }\n",
       "\n",
       "    .dataframe tbody tr th {\n",
       "        vertical-align: top;\n",
       "    }\n",
       "\n",
       "    .dataframe thead th {\n",
       "        text-align: right;\n",
       "    }\n",
       "</style>\n",
       "<table border=\"1\" class=\"dataframe\">\n",
       "  <thead>\n",
       "    <tr style=\"text-align: right;\">\n",
       "      <th></th>\n",
       "      <th>Datetime</th>\n",
       "      <th>LOCATION</th>\n",
       "      <th>NAME</th>\n",
       "      <th>LATITUDE</th>\n",
       "      <th>LONGITUDE</th>\n",
       "      <th>ALTITUDE</th>\n",
       "      <th>FF_10M_10</th>\n",
       "      <th>DD_10</th>\n",
       "      <th>DDN_10</th>\n",
       "      <th>DD_STD_10</th>\n",
       "      <th>DDX_10</th>\n",
       "      <th>FF_SENSOR_10</th>\n",
       "      <th>Flag</th>\n",
       "    </tr>\n",
       "  </thead>\n",
       "  <tbody>\n",
       "    <tr>\n",
       "      <th>0</th>\n",
       "      <td>01/04/2003 00:10</td>\n",
       "      <td>321_W_0</td>\n",
       "      <td>Europlatform_locatie_0</td>\n",
       "      <td>51.997778</td>\n",
       "      <td>3.275</td>\n",
       "      <td>19</td>\n",
       "      <td>3.15</td>\n",
       "      <td>2.8079</td>\n",
       "      <td>150.5</td>\n",
       "      <td>3.1</td>\n",
       "      <td>3.3094</td>\n",
       "      <td>3.63</td>\n",
       "      <td>1</td>\n",
       "    </tr>\n",
       "    <tr>\n",
       "      <th>1</th>\n",
       "      <td>01/04/2003 00:20</td>\n",
       "      <td>321_W_0</td>\n",
       "      <td>Europlatform_locatie_0</td>\n",
       "      <td>51.997778</td>\n",
       "      <td>3.275</td>\n",
       "      <td>19</td>\n",
       "      <td>3.65</td>\n",
       "      <td>3.2536</td>\n",
       "      <td>153.6</td>\n",
       "      <td>1.9</td>\n",
       "      <td>3.7015</td>\n",
       "      <td>4.06</td>\n",
       "      <td>1</td>\n",
       "    </tr>\n",
       "    <tr>\n",
       "      <th>2</th>\n",
       "      <td>01/04/2003 00:30</td>\n",
       "      <td>321_W_0</td>\n",
       "      <td>Europlatform_locatie_0</td>\n",
       "      <td>51.997778</td>\n",
       "      <td>3.275</td>\n",
       "      <td>19</td>\n",
       "      <td>3.98</td>\n",
       "      <td>3.5478</td>\n",
       "      <td>156.8</td>\n",
       "      <td>1.9</td>\n",
       "      <td>3.9659</td>\n",
       "      <td>4.35</td>\n",
       "      <td>1</td>\n",
       "    </tr>\n",
       "    <tr>\n",
       "      <th>3</th>\n",
       "      <td>01/04/2003 00:40</td>\n",
       "      <td>321_W_0</td>\n",
       "      <td>Europlatform_locatie_0</td>\n",
       "      <td>51.997778</td>\n",
       "      <td>3.275</td>\n",
       "      <td>19</td>\n",
       "      <td>4.18</td>\n",
       "      <td>3.7261</td>\n",
       "      <td>159.9</td>\n",
       "      <td>2.5</td>\n",
       "      <td>4.3032</td>\n",
       "      <td>4.72</td>\n",
       "      <td>1</td>\n",
       "    </tr>\n",
       "    <tr>\n",
       "      <th>4</th>\n",
       "      <td>01/04/2003 00:50</td>\n",
       "      <td>321_W_0</td>\n",
       "      <td>Europlatform_locatie_0</td>\n",
       "      <td>51.997778</td>\n",
       "      <td>3.275</td>\n",
       "      <td>19</td>\n",
       "      <td>4.45</td>\n",
       "      <td>3.9668</td>\n",
       "      <td>164.0</td>\n",
       "      <td>2.8</td>\n",
       "      <td>4.5676</td>\n",
       "      <td>5.01</td>\n",
       "      <td>1</td>\n",
       "    </tr>\n",
       "  </tbody>\n",
       "</table>\n",
       "</div>"
      ],
      "text/plain": [
       "           Datetime LOCATION                    NAME   LATITUDE  LONGITUDE  \\\n",
       "0  01/04/2003 00:10  321_W_0  Europlatform_locatie_0  51.997778      3.275   \n",
       "1  01/04/2003 00:20  321_W_0  Europlatform_locatie_0  51.997778      3.275   \n",
       "2  01/04/2003 00:30  321_W_0  Europlatform_locatie_0  51.997778      3.275   \n",
       "3  01/04/2003 00:40  321_W_0  Europlatform_locatie_0  51.997778      3.275   \n",
       "4  01/04/2003 00:50  321_W_0  Europlatform_locatie_0  51.997778      3.275   \n",
       "\n",
       "   ALTITUDE  FF_10M_10   DD_10  DDN_10  DD_STD_10  DDX_10  FF_SENSOR_10  Flag  \n",
       "0        19       3.15  2.8079   150.5        3.1  3.3094          3.63     1  \n",
       "1        19       3.65  3.2536   153.6        1.9  3.7015          4.06     1  \n",
       "2        19       3.98  3.5478   156.8        1.9  3.9659          4.35     1  \n",
       "3        19       4.18  3.7261   159.9        2.5  4.3032          4.72     1  \n",
       "4        19       4.45  3.9668   164.0        2.8  4.5676          5.01     1  "
      ]
     },
     "execution_count": 4,
     "metadata": {},
     "output_type": "execute_result"
    }
   ],
   "source": [
    "europlt_wind = pd.read_csv(filename, delimiter=',', header=9)\n",
    "europlt_wind.head()"
   ]
  },
  {
   "cell_type": "markdown",
   "metadata": {},
   "source": [
    "### Set time as the Index"
   ]
  },
  {
   "cell_type": "code",
   "execution_count": 5,
   "metadata": {},
   "outputs": [
    {
     "data": {
      "text/html": [
       "<div>\n",
       "<style scoped>\n",
       "    .dataframe tbody tr th:only-of-type {\n",
       "        vertical-align: middle;\n",
       "    }\n",
       "\n",
       "    .dataframe tbody tr th {\n",
       "        vertical-align: top;\n",
       "    }\n",
       "\n",
       "    .dataframe thead th {\n",
       "        text-align: right;\n",
       "    }\n",
       "</style>\n",
       "<table border=\"1\" class=\"dataframe\">\n",
       "  <thead>\n",
       "    <tr style=\"text-align: right;\">\n",
       "      <th></th>\n",
       "      <th>LOCATION</th>\n",
       "      <th>NAME</th>\n",
       "      <th>LATITUDE</th>\n",
       "      <th>LONGITUDE</th>\n",
       "      <th>ALTITUDE</th>\n",
       "      <th>FF_10M_10</th>\n",
       "      <th>DD_10</th>\n",
       "      <th>DDN_10</th>\n",
       "      <th>DD_STD_10</th>\n",
       "      <th>DDX_10</th>\n",
       "      <th>FF_SENSOR_10</th>\n",
       "      <th>Flag</th>\n",
       "    </tr>\n",
       "    <tr>\n",
       "      <th>Datetime</th>\n",
       "      <th></th>\n",
       "      <th></th>\n",
       "      <th></th>\n",
       "      <th></th>\n",
       "      <th></th>\n",
       "      <th></th>\n",
       "      <th></th>\n",
       "      <th></th>\n",
       "      <th></th>\n",
       "      <th></th>\n",
       "      <th></th>\n",
       "      <th></th>\n",
       "    </tr>\n",
       "  </thead>\n",
       "  <tbody>\n",
       "    <tr>\n",
       "      <th>01/04/2003 00:10</th>\n",
       "      <td>321_W_0</td>\n",
       "      <td>Europlatform_locatie_0</td>\n",
       "      <td>51.997778</td>\n",
       "      <td>3.275</td>\n",
       "      <td>19</td>\n",
       "      <td>3.15</td>\n",
       "      <td>2.8079</td>\n",
       "      <td>150.5</td>\n",
       "      <td>3.1</td>\n",
       "      <td>3.3094</td>\n",
       "      <td>3.63</td>\n",
       "      <td>1</td>\n",
       "    </tr>\n",
       "    <tr>\n",
       "      <th>01/04/2003 00:20</th>\n",
       "      <td>321_W_0</td>\n",
       "      <td>Europlatform_locatie_0</td>\n",
       "      <td>51.997778</td>\n",
       "      <td>3.275</td>\n",
       "      <td>19</td>\n",
       "      <td>3.65</td>\n",
       "      <td>3.2536</td>\n",
       "      <td>153.6</td>\n",
       "      <td>1.9</td>\n",
       "      <td>3.7015</td>\n",
       "      <td>4.06</td>\n",
       "      <td>1</td>\n",
       "    </tr>\n",
       "    <tr>\n",
       "      <th>01/04/2003 00:30</th>\n",
       "      <td>321_W_0</td>\n",
       "      <td>Europlatform_locatie_0</td>\n",
       "      <td>51.997778</td>\n",
       "      <td>3.275</td>\n",
       "      <td>19</td>\n",
       "      <td>3.98</td>\n",
       "      <td>3.5478</td>\n",
       "      <td>156.8</td>\n",
       "      <td>1.9</td>\n",
       "      <td>3.9659</td>\n",
       "      <td>4.35</td>\n",
       "      <td>1</td>\n",
       "    </tr>\n",
       "    <tr>\n",
       "      <th>01/04/2003 00:40</th>\n",
       "      <td>321_W_0</td>\n",
       "      <td>Europlatform_locatie_0</td>\n",
       "      <td>51.997778</td>\n",
       "      <td>3.275</td>\n",
       "      <td>19</td>\n",
       "      <td>4.18</td>\n",
       "      <td>3.7261</td>\n",
       "      <td>159.9</td>\n",
       "      <td>2.5</td>\n",
       "      <td>4.3032</td>\n",
       "      <td>4.72</td>\n",
       "      <td>1</td>\n",
       "    </tr>\n",
       "    <tr>\n",
       "      <th>01/04/2003 00:50</th>\n",
       "      <td>321_W_0</td>\n",
       "      <td>Europlatform_locatie_0</td>\n",
       "      <td>51.997778</td>\n",
       "      <td>3.275</td>\n",
       "      <td>19</td>\n",
       "      <td>4.45</td>\n",
       "      <td>3.9668</td>\n",
       "      <td>164.0</td>\n",
       "      <td>2.8</td>\n",
       "      <td>4.5676</td>\n",
       "      <td>5.01</td>\n",
       "      <td>1</td>\n",
       "    </tr>\n",
       "  </tbody>\n",
       "</table>\n",
       "</div>"
      ],
      "text/plain": [
       "                 LOCATION                    NAME   LATITUDE  LONGITUDE  \\\n",
       "Datetime                                                                  \n",
       "01/04/2003 00:10  321_W_0  Europlatform_locatie_0  51.997778      3.275   \n",
       "01/04/2003 00:20  321_W_0  Europlatform_locatie_0  51.997778      3.275   \n",
       "01/04/2003 00:30  321_W_0  Europlatform_locatie_0  51.997778      3.275   \n",
       "01/04/2003 00:40  321_W_0  Europlatform_locatie_0  51.997778      3.275   \n",
       "01/04/2003 00:50  321_W_0  Europlatform_locatie_0  51.997778      3.275   \n",
       "\n",
       "                  ALTITUDE  FF_10M_10   DD_10  DDN_10  DD_STD_10  DDX_10  \\\n",
       "Datetime                                                                   \n",
       "01/04/2003 00:10        19       3.15  2.8079   150.5        3.1  3.3094   \n",
       "01/04/2003 00:20        19       3.65  3.2536   153.6        1.9  3.7015   \n",
       "01/04/2003 00:30        19       3.98  3.5478   156.8        1.9  3.9659   \n",
       "01/04/2003 00:40        19       4.18  3.7261   159.9        2.5  4.3032   \n",
       "01/04/2003 00:50        19       4.45  3.9668   164.0        2.8  4.5676   \n",
       "\n",
       "                  FF_SENSOR_10  Flag  \n",
       "Datetime                              \n",
       "01/04/2003 00:10          3.63     1  \n",
       "01/04/2003 00:20          4.06     1  \n",
       "01/04/2003 00:30          4.35     1  \n",
       "01/04/2003 00:40          4.72     1  \n",
       "01/04/2003 00:50          5.01     1  "
      ]
     },
     "execution_count": 5,
     "metadata": {},
     "output_type": "execute_result"
    }
   ],
   "source": [
    "europlt_wind.set_index('Datetime', inplace=True)\n",
    "europlt_wind.head()"
   ]
  },
  {
   "cell_type": "markdown",
   "metadata": {},
   "source": [
    "### Choose a month with some NaN values and plot"
   ]
  },
  {
   "cell_type": "code",
   "execution_count": 6,
   "metadata": {},
   "outputs": [
    {
     "data": {
      "text/plain": [
       "([<matplotlib.axis.XTick at 0x7ff148944550>,\n",
       "  <matplotlib.axis.XTick at 0x7ff148944520>,\n",
       "  <matplotlib.axis.XTick at 0x7ff14896d8b0>,\n",
       "  <matplotlib.axis.XTick at 0x7ff14852e0d0>,\n",
       "  <matplotlib.axis.XTick at 0x7ff14852e820>,\n",
       "  <matplotlib.axis.XTick at 0x7ff1485a6040>,\n",
       "  <matplotlib.axis.XTick at 0x7ff1485a6700>,\n",
       "  <matplotlib.axis.XTick at 0x7ff1485a6e50>,\n",
       "  <matplotlib.axis.XTick at 0x7ff14852ebb0>,\n",
       "  <matplotlib.axis.XTick at 0x7ff1485ad160>],\n",
       " [Text(0, 0, ''),\n",
       "  Text(0, 0, ''),\n",
       "  Text(0, 0, ''),\n",
       "  Text(0, 0, ''),\n",
       "  Text(0, 0, ''),\n",
       "  Text(0, 0, ''),\n",
       "  Text(0, 0, ''),\n",
       "  Text(0, 0, ''),\n",
       "  Text(0, 0, ''),\n",
       "  Text(0, 0, '')])"
      ]
     },
     "execution_count": 6,
     "metadata": {},
     "output_type": "execute_result"
    },
    {
     "data": {
      "image/png": "[encoded data removed]",
      "text/plain": [
       "<Figure size 1440x360 with 1 Axes>"
      ]
     },
     "metadata": {
      "needs_background": "light"
     },
     "output_type": "display_data"
    }
   ],
   "source": [
    "dec_winds = europlt_wind['01/12/2010 00:10':'31/12/2010 23:50']\n",
    "\n",
    "wind_vals = dec_winds[[\"FF_10M_10\"]].to_numpy()\n",
    "flags = dec_winds[[\"Flag\"]].to_numpy()\n",
    "\n",
    "loc_flags = np.where(flags < 1)\n",
    "wind_vals[loc_flags[0]] = float('NaN')\n",
    "\n",
    "plt.figure(figsize=(20,5))\n",
    "plt.plot(dec_winds.index, wind_vals, color='blue')\n",
    "plt.title('Wind at Euro platform for December 2010')\n",
    "plt.ylabel('Wind speed (m/s)')\n",
    "plt.xticks(np.arange(0, 5000, step=500))"
   ]
  },
  {
   "cell_type": "markdown",
   "metadata": {},
   "source": [
    "### which values are NaN? Can we aim to replace them using ARIMA?"
   ]
  },
  {
   "cell_type": "code",
   "execution_count": 7,
   "metadata": {},
   "outputs": [
    {
     "name": "stdout",
     "output_type": "stream",
     "text": [
      "[['01/12/2010 15:00' '01/12/2010 00:10']\n",
      " ['01/12/2010 21:00' '01/12/2010 00:10']\n",
      " ['02/12/2010 21:00' '01/12/2010 00:10']\n",
      " ['03/12/2010 10:50' '01/12/2010 00:10']\n",
      " ['03/12/2010 21:00' '01/12/2010 00:10']\n",
      " ['04/12/2010 21:00' '01/12/2010 00:10']\n",
      " ['05/12/2010 14:30' '01/12/2010 00:10']\n",
      " ['05/12/2010 21:00' '01/12/2010 00:10']\n",
      " ['06/12/2010 21:00' '01/12/2010 00:10']\n",
      " ['08/12/2010 21:00' '01/12/2010 00:10']\n",
      " ['09/12/2010 21:00' '01/12/2010 00:10']\n",
      " ['10/12/2010 21:00' '01/12/2010 00:10']\n",
      " ['11/12/2010 21:00' '01/12/2010 00:10']\n",
      " ['12/12/2010 21:00' '01/12/2010 00:10']\n",
      " ['13/12/2010 21:00' '01/12/2010 00:10']\n",
      " ['14/12/2010 21:00' '01/12/2010 00:10']\n",
      " ['15/12/2010 13:50' '01/12/2010 00:10']\n",
      " ['15/12/2010 14:00' '01/12/2010 00:10']\n",
      " ['15/12/2010 14:10' '01/12/2010 00:10']\n",
      " ['15/12/2010 14:20' '01/12/2010 00:10']\n",
      " ['15/12/2010 14:30' '01/12/2010 00:10']\n",
      " ['15/12/2010 14:40' '01/12/2010 00:10']\n",
      " ['15/12/2010 14:50' '01/12/2010 00:10']\n",
      " ['15/12/2010 15:00' '01/12/2010 00:10']\n",
      " ['15/12/2010 15:10' '01/12/2010 00:10']\n",
      " ['15/12/2010 15:20' '01/12/2010 00:10']\n",
      " ['15/12/2010 21:00' '01/12/2010 00:10']\n",
      " ['16/12/2010 07:20' '01/12/2010 00:10']\n",
      " ['16/12/2010 07:30' '01/12/2010 00:10']\n",
      " ['16/12/2010 07:40' '01/12/2010 00:10']\n",
      " ['16/12/2010 07:50' '01/12/2010 00:10']\n",
      " ['16/12/2010 08:00' '01/12/2010 00:10']\n",
      " ['16/12/2010 08:10' '01/12/2010 00:10']\n",
      " ['16/12/2010 08:20' '01/12/2010 00:10']\n",
      " ['16/12/2010 08:30' '01/12/2010 00:10']\n",
      " ['16/12/2010 08:40' '01/12/2010 00:10']\n",
      " ['16/12/2010 08:50' '01/12/2010 00:10']\n",
      " ['16/12/2010 09:00' '01/12/2010 00:10']\n",
      " ['16/12/2010 09:10' '01/12/2010 00:10']\n",
      " ['16/12/2010 09:20' '01/12/2010 00:10']\n",
      " ['16/12/2010 09:30' '01/12/2010 00:10']\n",
      " ['16/12/2010 09:40' '01/12/2010 00:10']\n",
      " ['16/12/2010 09:50' '01/12/2010 00:10']\n",
      " ['16/12/2010 10:00' '01/12/2010 00:10']\n",
      " ['16/12/2010 10:10' '01/12/2010 00:10']\n",
      " ['16/12/2010 10:20' '01/12/2010 00:10']\n",
      " ['16/12/2010 10:30' '01/12/2010 00:10']\n",
      " ['16/12/2010 10:40' '01/12/2010 00:10']\n",
      " ['16/12/2010 10:50' '01/12/2010 00:10']\n",
      " ['16/12/2010 11:00' '01/12/2010 00:10']\n",
      " ['16/12/2010 11:10' '01/12/2010 00:10']\n",
      " ['16/12/2010 11:20' '01/12/2010 00:10']\n",
      " ['16/12/2010 11:30' '01/12/2010 00:10']\n",
      " ['16/12/2010 11:40' '01/12/2010 00:10']\n",
      " ['16/12/2010 11:50' '01/12/2010 00:10']\n",
      " ['16/12/2010 12:00' '01/12/2010 00:10']\n",
      " ['16/12/2010 12:10' '01/12/2010 00:10']\n",
      " ['16/12/2010 12:20' '01/12/2010 00:10']\n",
      " ['16/12/2010 12:30' '01/12/2010 00:10']\n",
      " ['16/12/2010 12:40' '01/12/2010 00:10']\n",
      " ['16/12/2010 12:50' '01/12/2010 00:10']\n",
      " ['16/12/2010 21:00' '01/12/2010 00:10']\n",
      " ['17/12/2010 21:00' '01/12/2010 00:10']\n",
      " ['18/12/2010 21:00' '01/12/2010 00:10']\n",
      " ['19/12/2010 21:00' '01/12/2010 00:10']\n",
      " ['20/12/2010 21:00' '01/12/2010 00:10']\n",
      " ['20/12/2010 21:10' '01/12/2010 00:10']\n",
      " ['21/12/2010 21:00' '01/12/2010 00:10']\n",
      " ['22/12/2010 08:20' '01/12/2010 00:10']\n",
      " ['22/12/2010 21:00' '01/12/2010 00:10']\n",
      " ['23/12/2010 21:00' '01/12/2010 00:10']\n",
      " ['24/12/2010 21:00' '01/12/2010 00:10']\n",
      " ['25/12/2010 21:00' '01/12/2010 00:10']\n",
      " ['26/12/2010 21:00' '01/12/2010 00:10']\n",
      " ['27/12/2010 21:00' '01/12/2010 00:10']\n",
      " ['28/12/2010 13:30' '01/12/2010 00:10']\n",
      " ['28/12/2010 21:00' '01/12/2010 00:10']\n",
      " ['29/12/2010 21:00' '01/12/2010 00:10']\n",
      " ['30/12/2010 21:00' '01/12/2010 00:10']\n",
      " ['31/12/2010 01:30' '01/12/2010 00:10']\n",
      " ['31/12/2010 21:00' '01/12/2010 00:10']]\n"
     ]
    },
    {
     "data": {
      "text/plain": [
       "array([  89,  125,  269,  352,  413,  557,  662,  701,  845, 1133, 1277,\n",
       "       1421, 1565, 1709, 1853, 1997, 2098, 2099, 2100, 2101, 2102, 2103,\n",
       "       2104, 2105, 2106, 2107, 2141, 2203, 2204, 2205, 2206, 2207, 2208,\n",
       "       2209, 2210, 2211, 2212, 2213, 2214, 2215, 2216, 2217, 2218, 2219,\n",
       "       2220, 2221, 2222, 2223, 2224, 2225, 2226, 2227, 2228, 2229, 2230,\n",
       "       2231, 2232, 2233, 2234, 2235, 2236, 2285, 2429, 2573, 2717, 2861,\n",
       "       2862, 3005, 3073, 3149, 3293, 3437, 3581, 3725, 3869, 3968, 4013,\n",
       "       4157, 4301, 4328, 4445])"
      ]
     },
     "execution_count": 7,
     "metadata": {},
     "output_type": "execute_result"
    }
   ],
   "source": [
    "print(dec_winds.index[np.argwhere(flags<1)])\n",
    "loc_flags[0]"
   ]
  },
  {
   "cell_type": "markdown",
   "metadata": {},
   "source": [
    "### Next steps:\n",
    "- ARIMA relies on timeseries repeating behaviour. \n",
    "- FInd if the timeseries is auto correlated or partially autocorrelated. "
   ]
  },
  {
   "cell_type": "markdown",
   "metadata": {},
   "source": [
    "### ACF and PACF plots"
   ]
  },
  {
   "cell_type": "code",
   "execution_count": 8,
   "metadata": {},
   "outputs": [
    {
     "data": {
      "image/png": "[encoded data removed]",
      "text/plain": [
       "<Figure size 864x288 with 2 Axes>"
      ]
     },
     "metadata": {
      "needs_background": "light"
     },
     "output_type": "display_data"
    }
   ],
   "source": [
    "fig, axes = plt.subplots(1, 2, sharey=False, sharex=False)\n",
    "fig.set_figwidth(12)\n",
    "fig.set_figheight(4)\n",
    "smt.graphics.plot_acf(~np.isnan(wind_vals), lags=30, ax=axes[0], alpha=0.5)\n",
    "smt.graphics.plot_pacf(~np.isnan(wind_vals), lags=30, ax=axes[1], alpha=0.5)\n",
    "plt.tight_layout()"
   ]
  },
  {
   "cell_type": "markdown",
   "metadata": {},
   "source": [
    "-Highly autocorrelated, implies high wind follows high wind and low wind follows low wind - strong trends. "
   ]
  },
  {
   "cell_type": "markdown",
   "metadata": {},
   "source": [
    "- If there is seasonality, it will be better if we try all combinations of different parameters and choose the best set ofparameters that gives less AIC score."
   ]
  },
  {
   "cell_type": "markdown",
   "metadata": {},
   "source": [
    "### Parameters - p, d, q\n",
    "- For 10 minute data, set seasonality = 0. \n",
    "- try all possible parameters and choose the best set of parameters that gives less AIC score for p and q."
   ]
  },
  {
   "cell_type": "code",
   "execution_count": 9,
   "metadata": {},
   "outputs": [],
   "source": [
    "# Define the p, d and q parameters to take any value between 0 and 2\n",
    "\n",
    "p = d = q = range(0, 3)\n",
    "\n",
    "pq_vals = list(itertools.product(p, d, q))\n",
    "\n",
    "# Generate all different combinations of seasonal p, q and q triplets\n",
    "pdq = [(x[0], x[1], x[2]) for x in list(itertools.product(p, d, q))]"
   ]
  },
  {
   "cell_type": "code",
   "execution_count": 10,
   "metadata": {},
   "outputs": [
    {
     "data": {
      "text/plain": [
       "[(0, 0, 0),\n",
       " (0, 0, 1),\n",
       " (0, 0, 2),\n",
       " (0, 1, 0),\n",
       " (0, 1, 1),\n",
       " (0, 1, 2),\n",
       " (0, 2, 0),\n",
       " (0, 2, 1),\n",
       " (0, 2, 2),\n",
       " (1, 0, 0),\n",
       " (1, 0, 1),\n",
       " (1, 0, 2),\n",
       " (1, 1, 0),\n",
       " (1, 1, 1),\n",
       " (1, 1, 2),\n",
       " (1, 2, 0),\n",
       " (1, 2, 1),\n",
       " (1, 2, 2),\n",
       " (2, 0, 0),\n",
       " (2, 0, 1),\n",
       " (2, 0, 2),\n",
       " (2, 1, 0),\n",
       " (2, 1, 1),\n",
       " (2, 1, 2),\n",
       " (2, 2, 0),\n",
       " (2, 2, 1),\n",
       " (2, 2, 2)]"
      ]
     },
     "execution_count": 10,
     "metadata": {},
     "output_type": "execute_result"
    }
   ],
   "source": [
    "pdq"
   ]
  },
  {
   "cell_type": "code",
   "execution_count": 11,
   "metadata": {},
   "outputs": [],
   "source": [
    "AIC_scores_list = []"
   ]
  },
  {
   "cell_type": "code",
   "execution_count": 56,
   "metadata": {},
   "outputs": [
    {
     "name": "stderr",
     "output_type": "stream",
     "text": [
      " This problem is unconstrained.\n",
      " This problem is unconstrained.\n"
     ]
    },
    {
     "name": "stdout",
     "output_type": "stream",
     "text": [
      "RUNNING THE L-BFGS-B CODE\n",
      "\n",
      "           * * *\n",
      "\n",
      "Machine precision = 2.220D-16\n",
      " N =            1     M =           10\n",
      "\n",
      "At X0         0 variables are exactly at the bounds\n",
      "\n",
      "At iterate    0    f=  3.64652D+00    |proj g|=  1.84563D-03\n",
      "\n",
      "           * * *\n",
      "\n",
      "Tit   = total number of iterations\n",
      "Tnf   = total number of function evaluations\n",
      "Tnint = total number of segments explored during Cauchy searches\n",
      "Skip  = number of BFGS updates skipped\n",
      "Nact  = number of active bounds at final generalized Cauchy point\n",
      "Projg = norm of the final projected gradient\n",
      "F     = final function value\n",
      "\n",
      "           * * *\n",
      "\n",
      "   N    Tit     Tnf  Tnint  Skip  Nact     Projg        F\n",
      "    1      2      4      1     0     0   5.751D-07   3.646D+00\n",
      "  F =   3.6464417675628162     \n",
      "\n",
      "CONVERGENCE: NORM_OF_PROJECTED_GRADIENT_<=_PGTOL            \n",
      "RUNNING THE L-BFGS-B CODE\n",
      "\n",
      "           * * *\n",
      "\n",
      "Machine precision = 2.220D-16\n",
      " N =            2     M =           10\n",
      "\n",
      "At X0         0 variables are exactly at the bounds\n",
      "\n",
      "At iterate    0    f=  3.31096D+00    |proj g|=  6.82930D-02\n",
      "\n",
      "At iterate    5    f=  3.02562D+00    |proj g|=  1.66089D-06\n",
      "\n",
      "           * * *\n",
      "\n",
      "Tit   = total number of iterations\n",
      "Tnf   = total number of function evaluations\n",
      "Tnint = total number of segments explored during Cauchy searches\n",
      "Skip  = number of BFGS updates skipped\n",
      "Nact  = number of active bounds at final generalized Cauchy point\n",
      "Projg = norm of the final projected gradient\n",
      "F     = final function value\n",
      "\n",
      "           * * *\n",
      "\n",
      "   N    Tit     Tnf  Tnint  Skip  Nact     Projg        F\n",
      "    2      5      8      1     0     0   1.661D-06   3.026D+00\n",
      "  F =   3.0256166496266315     \n",
      "\n",
      "CONVERGENCE: NORM_OF_PROJECTED_GRADIENT_<=_PGTOL            \n",
      "RUNNING THE L-BFGS-B CODE\n",
      "\n",
      "           * * *\n",
      "\n",
      "Machine precision = 2.220D-16\n",
      " N =            3     M =           10\n",
      "\n",
      "At X0         0 variables are exactly at the bounds\n",
      "\n",
      "At iterate    0    f=  3.23937D+00    |proj g|=  8.24420D-02\n"
     ]
    },
    {
     "name": "stderr",
     "output_type": "stream",
     "text": [
      " This problem is unconstrained.\n"
     ]
    },
    {
     "name": "stdout",
     "output_type": "stream",
     "text": [
      "\n",
      "At iterate    5    f=  2.64287D+00    |proj g|=  7.55537D-02\n",
      "\n",
      "At iterate   10    f=  2.56120D+00    |proj g|=  7.84722D-03\n",
      "\n",
      "At iterate   15    f=  2.56086D+00    |proj g|=  2.46172D-06\n",
      "\n",
      "           * * *\n",
      "\n",
      "Tit   = total number of iterations\n",
      "Tnf   = total number of function evaluations\n",
      "Tnint = total number of segments explored during Cauchy searches\n",
      "Skip  = number of BFGS updates skipped\n",
      "Nact  = number of active bounds at final generalized Cauchy point\n",
      "Projg = norm of the final projected gradient\n",
      "F     = final function value\n",
      "\n",
      "           * * *\n",
      "\n",
      "   N    Tit     Tnf  Tnint  Skip  Nact     Projg        F\n",
      "    3     15     21      1     0     0   2.462D-06   2.561D+00\n",
      "  F =   2.5608567550734898     \n",
      "\n",
      "CONVERGENCE: NORM_OF_PROJECTED_GRADIENT_<=_PGTOL            \n",
      "RUNNING THE L-BFGS-B CODE\n",
      "\n",
      "           * * *\n",
      "\n",
      "Machine precision = 2.220D-16\n",
      " N =            1     M =           10\n",
      "\n",
      "At X0         0 variables are exactly at the bounds\n",
      "\n",
      "At iterate    0    f=  1.11216D+00    |proj g|=  3.46465D-02\n",
      "\n",
      "           * * *\n",
      "\n",
      "Tit   = total number of iterations\n",
      "Tnf   = total number of function evaluations\n",
      "Tnint = total number of segments explored during Cauchy searches\n",
      "Skip  = number of BFGS updates skipped\n",
      "Nact  = number of active bounds at final generalized Cauchy point\n",
      "Projg = norm of the final projected gradient\n",
      "F     = final function value\n",
      "\n",
      "           * * *\n",
      "\n",
      "   N    Tit     Tnf  Tnint  Skip  Nact     Projg        F\n",
      "    1      2      6      1     0     0   2.037D-05   1.112D+00\n",
      "  F =   1.1119975054867484     \n",
      "\n",
      "CONVERGENCE: REL_REDUCTION_OF_F_<=_FACTR*EPSMCH             \n",
      "RUNNING THE L-BFGS-B CODE\n",
      "\n",
      "           * * *\n",
      "\n",
      "Machine precision = 2.220D-16\n",
      " N =            2     M =           10\n",
      "\n",
      "At X0         0 variables are exactly at the bounds\n",
      "\n",
      "At iterate    0    f=  1.09488D+00    |proj g|=  1.97591D-02\n",
      "\n",
      "           * * *\n",
      "\n",
      "Tit   = total number of iterations\n",
      "Tnf   = total number of function evaluations\n",
      "Tnint = total number of segments explored during Cauchy searches\n",
      "Skip  = number of BFGS updates skipped\n",
      "Nact  = number of active bounds at final generalized Cauchy point\n",
      "Projg = norm of the final projected gradient\n",
      "F     = final function value\n",
      "\n",
      "           * * *\n",
      "\n",
      "   N    Tit     Tnf  Tnint  Skip  Nact     Projg        F\n",
      "    2      4      7      1     0     0   6.132D-07   1.095D+00\n",
      "  F =   1.0945849951008977     \n",
      "\n",
      "CONVERGENCE: NORM_OF_PROJECTED_GRADIENT_<=_PGTOL            \n"
     ]
    },
    {
     "name": "stderr",
     "output_type": "stream",
     "text": [
      " This problem is unconstrained.\n",
      " This problem is unconstrained.\n",
      " This problem is unconstrained.\n"
     ]
    },
    {
     "name": "stdout",
     "output_type": "stream",
     "text": [
      "RUNNING THE L-BFGS-B CODE\n",
      "\n",
      "           * * *\n",
      "\n",
      "Machine precision = 2.220D-16\n",
      " N =            3     M =           10\n",
      "\n",
      "At X0         0 variables are exactly at the bounds\n",
      "\n",
      "At iterate    0    f=  1.08654D+00    |proj g|=  9.68208D-03\n",
      "\n",
      "At iterate    5    f=  1.08642D+00    |proj g|=  3.37952D-08\n",
      "\n",
      "           * * *\n",
      "\n",
      "Tit   = total number of iterations\n",
      "Tnf   = total number of function evaluations\n",
      "Tnint = total number of segments explored during Cauchy searches\n",
      "Skip  = number of BFGS updates skipped\n",
      "Nact  = number of active bounds at final generalized Cauchy point\n",
      "Projg = norm of the final projected gradient\n",
      "F     = final function value\n",
      "\n",
      "           * * *\n",
      "\n",
      "   N    Tit     Tnf  Tnint  Skip  Nact     Projg        F\n",
      "    3      5      8      1     0     0   3.380D-08   1.086D+00\n",
      "  F =   1.0864193385608893     \n",
      "\n",
      "CONVERGENCE: NORM_OF_PROJECTED_GRADIENT_<=_PGTOL            \n",
      "RUNNING THE L-BFGS-B CODE\n",
      "\n",
      "           * * *\n",
      "\n",
      "Machine precision = 2.220D-16\n",
      " N =            1     M =           10\n",
      "\n",
      "At X0         0 variables are exactly at the bounds\n",
      "\n",
      "At iterate    0    f=  1.52902D+00    |proj g|=  2.50436D-02\n",
      "\n",
      "           * * *\n",
      "\n",
      "Tit   = total number of iterations\n",
      "Tnf   = total number of function evaluations\n",
      "Tnint = total number of segments explored during Cauchy searches\n",
      "Skip  = number of BFGS updates skipped\n",
      "Nact  = number of active bounds at final generalized Cauchy point\n",
      "Projg = norm of the final projected gradient\n",
      "F     = final function value\n",
      "\n",
      "           * * *\n",
      "\n",
      "   N    Tit     Tnf  Tnint  Skip  Nact     Projg        F\n",
      "    1      3      5      1     0     0   9.929D-06   1.529D+00\n",
      "  F =   1.5288247260391274     \n",
      "\n",
      "CONVERGENCE: NORM_OF_PROJECTED_GRADIENT_<=_PGTOL            \n",
      "RUNNING THE L-BFGS-B CODE\n",
      "\n",
      "           * * *\n",
      "\n",
      "Machine precision = 2.220D-16\n",
      " N =            2     M =           10\n",
      "\n",
      "At X0         0 variables are exactly at the bounds\n",
      "\n",
      "At iterate    0    f=  1.18471D+00    |proj g|=  1.55522D-01\n",
      "\n"
     ]
    },
    {
     "name": "stderr",
     "output_type": "stream",
     "text": [
      " This problem is unconstrained.\n",
      " This problem is unconstrained.\n"
     ]
    },
    {
     "name": "stdout",
     "output_type": "stream",
     "text": [
      "At iterate    5    f=  1.14475D+00    |proj g|=  1.13566D-01\n",
      "\n",
      "At iterate   10    f=  1.11801D+00    |proj g|=  5.70297D-03\n",
      "\n",
      "At iterate   15    f=  1.11338D+00    |proj g|=  2.68405D-03\n",
      "\n",
      "At iterate   20    f=  1.11284D+00    |proj g|=  5.00388D-03\n",
      "\n",
      "At iterate   25    f=  1.11280D+00    |proj g|=  1.07965D-03\n",
      "\n",
      "At iterate   30    f=  1.11280D+00    |proj g|=  1.22042D-04\n",
      "\n",
      "           * * *\n",
      "\n",
      "Tit   = total number of iterations\n",
      "Tnf   = total number of function evaluations\n",
      "Tnint = total number of segments explored during Cauchy searches\n",
      "Skip  = number of BFGS updates skipped\n",
      "Nact  = number of active bounds at final generalized Cauchy point\n",
      "Projg = norm of the final projected gradient\n",
      "F     = final function value\n",
      "\n",
      "           * * *\n",
      "\n",
      "   N    Tit     Tnf  Tnint  Skip  Nact     Projg        F\n",
      "    2     33     37      1     0     0   5.884D-06   1.113D+00\n",
      "  F =   1.1127968799791799     \n",
      "\n",
      "CONVERGENCE: NORM_OF_PROJECTED_GRADIENT_<=_PGTOL            \n",
      "RUNNING THE L-BFGS-B CODE\n",
      "\n"
     ]
    },
    {
     "name": "stderr",
     "output_type": "stream",
     "text": [
      " This problem is unconstrained.\n"
     ]
    },
    {
     "name": "stdout",
     "output_type": "stream",
     "text": [
      "           * * *\n",
      "\n",
      "Machine precision = 2.220D-16\n",
      " N =            3     M =           10\n",
      "\n",
      "At X0         0 variables are exactly at the bounds\n",
      "\n",
      "At iterate    0    f=  1.14307D+00    |proj g|=  1.69424D-01\n",
      "\n",
      "At iterate    5    f=  1.12250D+00    |proj g|=  2.94202D-02\n",
      "\n",
      "At iterate   10    f=  1.10101D+00    |proj g|=  6.81827D-03\n",
      "\n",
      "At iterate   15    f=  1.09649D+00    |proj g|=  3.06256D-03\n",
      "\n",
      "At iterate   20    f=  1.09557D+00    |proj g|=  2.40756D-04\n",
      "\n",
      "At iterate   25    f=  1.09546D+00    |proj g|=  4.21062D-05\n",
      "\n",
      "           * * *\n",
      "\n",
      "Tit   = total number of iterations\n",
      "Tnf   = total number of function evaluations\n",
      "Tnint = total number of segments explored during Cauchy searches\n",
      "Skip  = number of BFGS updates skipped\n",
      "Nact  = number of active bounds at final generalized Cauchy point\n",
      "Projg = norm of the final projected gradient\n",
      "F     = final function value\n",
      "\n",
      "           * * *\n",
      "\n",
      "   N    Tit     Tnf  Tnint  Skip  Nact     Projg        F\n",
      "    3     27     34      1     0     0   2.585D-05   1.095D+00\n",
      "  F =   1.0954510274822773     \n",
      "\n",
      "CONVERGENCE: REL_REDUCTION_OF_F_<=_FACTR*EPSMCH             \n",
      "RUNNING THE L-BFGS-B CODE\n",
      "\n",
      "           * * *\n",
      "\n",
      "Machine precision = 2.220D-16\n",
      " N =            2     M =           10\n",
      "\n",
      "At X0         0 variables are exactly at the bounds\n",
      "\n",
      "At iterate    0    f=  1.11220D+00    |proj g|=  1.61341D-02\n"
     ]
    },
    {
     "name": "stderr",
     "output_type": "stream",
     "text": [
      " This problem is unconstrained.\n"
     ]
    },
    {
     "name": "stdout",
     "output_type": "stream",
     "text": [
      "\n",
      "At iterate    5    f=  1.11217D+00    |proj g|=  6.27211D-04\n",
      "\n",
      "At iterate   10    f=  1.11216D+00    |proj g|=  2.32266D-03\n",
      "\n",
      "           * * *\n",
      "\n",
      "Tit   = total number of iterations\n",
      "Tnf   = total number of function evaluations\n",
      "Tnint = total number of segments explored during Cauchy searches\n",
      "Skip  = number of BFGS updates skipped\n",
      "Nact  = number of active bounds at final generalized Cauchy point\n",
      "Projg = norm of the final projected gradient\n",
      "F     = final function value\n",
      "\n",
      "           * * *\n",
      "\n",
      "   N    Tit     Tnf  Tnint  Skip  Nact     Projg        F\n",
      "    2     13     18      1     0     0   2.758D-06   1.112D+00\n",
      "  F =   1.1121590084582962     \n",
      "\n",
      "CONVERGENCE: NORM_OF_PROJECTED_GRADIENT_<=_PGTOL            \n",
      "RUNNING THE L-BFGS-B CODE\n",
      "\n",
      "           * * *\n",
      "\n",
      "Machine precision = 2.220D-16\n",
      " N =            3     M =           10\n",
      "\n",
      "At X0         0 variables are exactly at the bounds\n",
      "\n",
      "At iterate    0    f=  1.09565D+00    |proj g|=  2.67727D-02\n"
     ]
    },
    {
     "name": "stderr",
     "output_type": "stream",
     "text": [
      " This problem is unconstrained.\n"
     ]
    },
    {
     "name": "stdout",
     "output_type": "stream",
     "text": [
      "\n",
      "At iterate    5    f=  1.09506D+00    |proj g|=  3.55827D-05\n",
      "\n",
      "At iterate   10    f=  1.09506D+00    |proj g|=  1.75024D-03\n",
      "\n",
      "At iterate   15    f=  1.09504D+00    |proj g|=  2.19368D-03\n",
      "\n",
      "           * * *\n",
      "\n",
      "Tit   = total number of iterations\n",
      "Tnf   = total number of function evaluations\n",
      "Tnint = total number of segments explored during Cauchy searches\n",
      "Skip  = number of BFGS updates skipped\n",
      "Nact  = number of active bounds at final generalized Cauchy point\n",
      "Projg = norm of the final projected gradient\n",
      "F     = final function value\n",
      "\n",
      "           * * *\n",
      "\n",
      "   N    Tit     Tnf  Tnint  Skip  Nact     Projg        F\n",
      "    3     19     24      1     0     0   6.819D-06   1.095D+00\n",
      "  F =   1.0950333724632944     \n",
      "\n",
      "CONVERGENCE: NORM_OF_PROJECTED_GRADIENT_<=_PGTOL            \n",
      "RUNNING THE L-BFGS-B CODE\n",
      "\n",
      "           * * *\n",
      "\n",
      "Machine precision = 2.220D-16\n",
      " N =            4     M =           10\n",
      "\n",
      "At X0         0 variables are exactly at the bounds\n",
      "\n",
      "At iterate    0    f=  1.08716D+00    |proj g|=  1.66576D-02\n"
     ]
    },
    {
     "name": "stderr",
     "output_type": "stream",
     "text": [
      " This problem is unconstrained.\n"
     ]
    },
    {
     "name": "stdout",
     "output_type": "stream",
     "text": [
      "\n",
      "At iterate    5    f=  1.08700D+00    |proj g|=  1.99297D-05\n",
      "\n",
      "           * * *\n",
      "\n",
      "Tit   = total number of iterations\n",
      "Tnf   = total number of function evaluations\n",
      "Tnint = total number of segments explored during Cauchy searches\n",
      "Skip  = number of BFGS updates skipped\n",
      "Nact  = number of active bounds at final generalized Cauchy point\n",
      "Projg = norm of the final projected gradient\n",
      "F     = final function value\n",
      "\n",
      "           * * *\n",
      "\n",
      "   N    Tit     Tnf  Tnint  Skip  Nact     Projg        F\n",
      "    4      5      8      1     0     0   1.993D-05   1.087D+00\n",
      "  F =   1.0870044661266507     \n",
      "\n",
      "CONVERGENCE: REL_REDUCTION_OF_F_<=_FACTR*EPSMCH             \n",
      "RUNNING THE L-BFGS-B CODE\n",
      "\n",
      "           * * *\n",
      "\n",
      "Machine precision = 2.220D-16\n",
      " N =            2     M =           10\n",
      "\n",
      "At X0         0 variables are exactly at the bounds\n",
      "\n",
      "At iterate    0    f=  1.09910D+00    |proj g|=  1.85770D-03\n",
      "\n",
      "           * * *\n",
      "\n",
      "Tit   = total number of iterations\n",
      "Tnf   = total number of function evaluations\n",
      "Tnint = total number of segments explored during Cauchy searches\n",
      "Skip  = number of BFGS updates skipped\n",
      "Nact  = number of active bounds at final generalized Cauchy point\n",
      "Projg = norm of the final projected gradient\n",
      "F     = final function value\n",
      "\n",
      "           * * *\n",
      "\n",
      "   N    Tit     Tnf  Tnint  Skip  Nact     Projg        F\n",
      "    2      3      6      1     0     0   5.785D-07   1.099D+00\n",
      "  F =   1.0990945663909641     \n",
      "\n",
      "CONVERGENCE: NORM_OF_PROJECTED_GRADIENT_<=_PGTOL            \n"
     ]
    },
    {
     "name": "stderr",
     "output_type": "stream",
     "text": [
      " This problem is unconstrained.\n",
      " This problem is unconstrained.\n"
     ]
    },
    {
     "name": "stdout",
     "output_type": "stream",
     "text": [
      "RUNNING THE L-BFGS-B CODE\n",
      "\n",
      "           * * *\n",
      "\n",
      "Machine precision = 2.220D-16\n",
      " N =            3     M =           10\n",
      "\n",
      "At X0         0 variables are exactly at the bounds\n",
      "\n",
      "At iterate    0    f=  1.08586D+00    |proj g|=  7.65289D-03\n",
      "\n",
      "At iterate    5    f=  1.08529D+00    |proj g|=  1.34653D-02\n",
      "\n",
      "At iterate   10    f=  1.08494D+00    |proj g|=  9.57523D-07\n",
      "\n",
      "           * * *\n",
      "\n",
      "Tit   = total number of iterations\n",
      "Tnf   = total number of function evaluations\n",
      "Tnint = total number of segments explored during Cauchy searches\n",
      "Skip  = number of BFGS updates skipped\n",
      "Nact  = number of active bounds at final generalized Cauchy point\n",
      "Projg = norm of the final projected gradient\n",
      "F     = final function value\n",
      "\n",
      "           * * *\n",
      "\n",
      "   N    Tit     Tnf  Tnint  Skip  Nact     Projg        F\n",
      "    3     10     13      1     0     0   9.575D-07   1.085D+00\n",
      "  F =   1.0849441329156626     \n",
      "\n",
      "CONVERGENCE: NORM_OF_PROJECTED_GRADIENT_<=_PGTOL            \n",
      "RUNNING THE L-BFGS-B CODE\n",
      "\n",
      "           * * *\n",
      "\n",
      "Machine precision = 2.220D-16\n",
      " N =            4     M =           10\n",
      "\n",
      "At X0         0 variables are exactly at the bounds\n",
      "\n",
      "At iterate    0    f=  1.08474D+00    |proj g|=  4.09605D-03\n"
     ]
    },
    {
     "name": "stderr",
     "output_type": "stream",
     "text": [
      " This problem is unconstrained.\n"
     ]
    },
    {
     "name": "stdout",
     "output_type": "stream",
     "text": [
      "\n",
      "At iterate    5    f=  1.08473D+00    |proj g|=  3.20794D-04\n",
      "\n",
      "At iterate   10    f=  1.08472D+00    |proj g|=  3.12406D-04\n",
      "\n",
      "           * * *\n",
      "\n",
      "Tit   = total number of iterations\n",
      "Tnf   = total number of function evaluations\n",
      "Tnint = total number of segments explored during Cauchy searches\n",
      "Skip  = number of BFGS updates skipped\n",
      "Nact  = number of active bounds at final generalized Cauchy point\n",
      "Projg = norm of the final projected gradient\n",
      "F     = final function value\n",
      "\n",
      "           * * *\n",
      "\n",
      "   N    Tit     Tnf  Tnint  Skip  Nact     Projg        F\n",
      "    4     12     15      1     0     0   7.577D-06   1.085D+00\n",
      "  F =   1.0847192036680271     \n",
      "\n",
      "CONVERGENCE: NORM_OF_PROJECTED_GRADIENT_<=_PGTOL            \n",
      "RUNNING THE L-BFGS-B CODE\n",
      "\n",
      "           * * *\n",
      "\n",
      "Machine precision = 2.220D-16\n",
      " N =            2     M =           10\n",
      "\n",
      "At X0         0 variables are exactly at the bounds\n",
      "\n",
      "At iterate    0    f=  1.36833D+00    |proj g|=  7.68975D-03\n",
      "\n",
      "At iterate    5    f=  1.36830D+00    |proj g|=  3.92604D-06\n",
      "\n",
      "           * * *\n",
      "\n",
      "Tit   = total number of iterations\n",
      "Tnf   = total number of function evaluations\n",
      "Tnint = total number of segments explored during Cauchy searches\n",
      "Skip  = number of BFGS updates skipped\n",
      "Nact  = number of active bounds at final generalized Cauchy point\n",
      "Projg = norm of the final projected gradient\n",
      "F     = final function value\n",
      "\n",
      "           * * *\n",
      "\n",
      "   N    Tit     Tnf  Tnint  Skip  Nact     Projg        F\n",
      "    2      5      8      1     0     0   3.926D-06   1.368D+00\n",
      "  F =   1.3683038973506945     \n",
      "\n",
      "CONVERGENCE: NORM_OF_PROJECTED_GRADIENT_<=_PGTOL            \n"
     ]
    },
    {
     "name": "stderr",
     "output_type": "stream",
     "text": [
      " This problem is unconstrained.\n",
      " This problem is unconstrained.\n"
     ]
    },
    {
     "name": "stdout",
     "output_type": "stream",
     "text": [
      "RUNNING THE L-BFGS-B CODE\n",
      "\n",
      "           * * *\n",
      "\n",
      "Machine precision = 2.220D-16\n",
      " N =            3     M =           10\n",
      "\n",
      "At X0         0 variables are exactly at the bounds\n",
      "\n",
      "At iterate    0    f=  1.18720D+00    |proj g|=  1.66459D-01\n",
      "\n",
      "At iterate    5    f=  1.12299D+00    |proj g|=  2.44365D-02\n",
      "\n",
      "At iterate   10    f=  1.10432D+00    |proj g|=  2.38017D-02\n",
      "\n",
      "At iterate   15    f=  1.10041D+00    |proj g|=  6.99904D-03\n",
      "\n",
      "At iterate   20    f=  1.09996D+00    |proj g|=  2.50886D-03\n",
      "\n",
      "At iterate   25    f=  1.09993D+00    |proj g|=  3.54459D-04\n",
      "\n",
      "At iterate   30    f=  1.09993D+00    |proj g|=  1.85767D-04\n",
      "\n",
      "At iterate   35    f=  1.09993D+00    |proj g|=  3.29777D-04\n",
      "\n",
      "           * * *\n",
      "\n",
      "Tit   = total number of iterations\n",
      "Tnf   = total number of function evaluations\n",
      "Tnint = total number of segments explored during Cauchy searches\n",
      "Skip  = number of BFGS updates skipped\n",
      "Nact  = number of active bounds at final generalized Cauchy point\n",
      "Projg = norm of the final projected gradient\n",
      "F     = final function value\n",
      "\n",
      "           * * *\n",
      "\n",
      "   N    Tit     Tnf  Tnint  Skip  Nact     Projg        F\n",
      "    3     37     44      1     0     0   4.509D-04   1.100D+00\n",
      "  F =   1.0999297324856747     \n",
      "\n",
      "CONVERGENCE: REL_REDUCTION_OF_F_<=_FACTR*EPSMCH             \n"
     ]
    },
    {
     "name": "stderr",
     "output_type": "stream",
     "text": [
      " This problem is unconstrained.\n"
     ]
    },
    {
     "name": "stdout",
     "output_type": "stream",
     "text": [
      "RUNNING THE L-BFGS-B CODE\n",
      "\n",
      "           * * *\n",
      "\n",
      "Machine precision = 2.220D-16\n",
      " N =            4     M =           10\n",
      "\n",
      "At X0         0 variables are exactly at the bounds\n",
      "\n",
      "At iterate    0    f=  1.14637D+00    |proj g|=  1.18062D-01\n",
      "\n",
      "At iterate    5    f=  1.13043D+00    |proj g|=  1.23717D-01\n",
      "\n",
      "At iterate   10    f=  1.11345D+00    |proj g|=  1.09657D-03\n",
      "\n",
      "At iterate   15    f=  1.11288D+00    |proj g|=  7.88642D-03\n",
      "\n",
      "At iterate   20    f=  1.11267D+00    |proj g|=  2.40280D-03\n",
      "\n",
      "At iterate   25    f=  1.11265D+00    |proj g|=  4.73113D-06\n",
      "\n",
      "           * * *\n",
      "\n",
      "Tit   = total number of iterations\n",
      "Tnf   = total number of function evaluations\n",
      "Tnint = total number of segments explored during Cauchy searches\n",
      "Skip  = number of BFGS updates skipped\n",
      "Nact  = number of active bounds at final generalized Cauchy point\n",
      "Projg = norm of the final projected gradient\n",
      "F     = final function value\n",
      "\n",
      "           * * *\n",
      "\n",
      "   N    Tit     Tnf  Tnint  Skip  Nact     Projg        F\n",
      "    4     25     29      1     0     0   4.731D-06   1.113D+00\n",
      "  F =   1.1126537269375909     \n",
      "\n",
      "CONVERGENCE: NORM_OF_PROJECTED_GRADIENT_<=_PGTOL            \n",
      "RUNNING THE L-BFGS-B CODE\n",
      "\n",
      "           * * *\n",
      "\n",
      "Machine precision = 2.220D-16\n",
      " N =            3     M =           10\n",
      "\n",
      "At X0         0 variables are exactly at the bounds\n",
      "\n",
      "At iterate    0    f=  1.09949D+00    |proj g|=  1.56834D-02\n",
      "\n",
      "           * * *\n",
      "\n",
      "Tit   = total number of iterations\n",
      "Tnf   = total number of function evaluations\n",
      "Tnint = total number of segments explored during Cauchy searches\n",
      "Skip  = number of BFGS updates skipped\n",
      "Nact  = number of active bounds at final generalized Cauchy point\n",
      "Projg = norm of the final projected gradient\n",
      "F     = final function value\n",
      "\n",
      "           * * *\n",
      "\n",
      "   N    Tit     Tnf  Tnint  Skip  Nact     Projg        F\n",
      "    3      4      8      1     0     0   2.098D-05   1.099D+00\n",
      "  F =   1.0994564100678024     \n",
      "\n",
      "CONVERGENCE: REL_REDUCTION_OF_F_<=_FACTR*EPSMCH             \n"
     ]
    },
    {
     "name": "stderr",
     "output_type": "stream",
     "text": [
      " This problem is unconstrained.\n"
     ]
    },
    {
     "name": "stdout",
     "output_type": "stream",
     "text": [
      "RUNNING THE L-BFGS-B CODE\n",
      "\n",
      "           * * *\n",
      "\n",
      "Machine precision = 2.220D-16\n",
      " N =            4     M =           10\n",
      "\n",
      "At X0         0 variables are exactly at the bounds\n",
      "\n",
      "At iterate    0    f=  1.08833D+00    |proj g|=  2.36297D-02\n"
     ]
    },
    {
     "name": "stderr",
     "output_type": "stream",
     "text": [
      " This problem is unconstrained.\n"
     ]
    },
    {
     "name": "stdout",
     "output_type": "stream",
     "text": [
      "\n",
      "At iterate    5    f=  1.08674D+00    |proj g|=  2.11340D-02\n",
      "\n",
      "At iterate   10    f=  1.08572D+00    |proj g|=  4.84823D-06\n",
      "\n",
      "           * * *\n",
      "\n",
      "Tit   = total number of iterations\n",
      "Tnf   = total number of function evaluations\n",
      "Tnint = total number of segments explored during Cauchy searches\n",
      "Skip  = number of BFGS updates skipped\n",
      "Nact  = number of active bounds at final generalized Cauchy point\n",
      "Projg = norm of the final projected gradient\n",
      "F     = final function value\n",
      "\n",
      "           * * *\n",
      "\n",
      "   N    Tit     Tnf  Tnint  Skip  Nact     Projg        F\n",
      "    4     10     13      1     0     0   4.848D-06   1.086D+00\n",
      "  F =   1.0857157193358873     \n",
      "\n",
      "CONVERGENCE: NORM_OF_PROJECTED_GRADIENT_<=_PGTOL            \n",
      "RUNNING THE L-BFGS-B CODE\n",
      "\n",
      "           * * *\n",
      "\n",
      "Machine precision = 2.220D-16\n",
      " N =            5     M =           10\n",
      "\n",
      "At X0         0 variables are exactly at the bounds\n",
      "\n",
      "At iterate    0    f=  1.08558D+00    |proj g|=  1.92119D-02\n"
     ]
    },
    {
     "name": "stderr",
     "output_type": "stream",
     "text": [
      " This problem is unconstrained.\n"
     ]
    },
    {
     "name": "stdout",
     "output_type": "stream",
     "text": [
      "\n",
      "At iterate    5    f=  1.08546D+00    |proj g|=  2.81889D-03\n",
      "\n",
      "At iterate   10    f=  1.08541D+00    |proj g|=  2.70238D-05\n",
      "\n",
      "           * * *\n",
      "\n",
      "Tit   = total number of iterations\n",
      "Tnf   = total number of function evaluations\n",
      "Tnint = total number of segments explored during Cauchy searches\n",
      "Skip  = number of BFGS updates skipped\n",
      "Nact  = number of active bounds at final generalized Cauchy point\n",
      "Projg = norm of the final projected gradient\n",
      "F     = final function value\n",
      "\n",
      "           * * *\n",
      "\n",
      "   N    Tit     Tnf  Tnint  Skip  Nact     Projg        F\n",
      "    5     11     16      1     0     0   2.694D-05   1.085D+00\n",
      "  F =   1.0854107987334798     \n",
      "\n",
      "CONVERGENCE: REL_REDUCTION_OF_F_<=_FACTR*EPSMCH             \n"
     ]
    },
    {
     "name": "stderr",
     "output_type": "stream",
     "text": [
      " This problem is unconstrained.\n"
     ]
    },
    {
     "name": "stdout",
     "output_type": "stream",
     "text": [
      "RUNNING THE L-BFGS-B CODE\n",
      "\n",
      "           * * *\n",
      "\n",
      "Machine precision = 2.220D-16\n",
      " N =            3     M =           10\n",
      "\n",
      "At X0         0 variables are exactly at the bounds\n",
      "\n",
      "At iterate    0    f=  1.09082D+00    |proj g|=  1.79014D-03\n",
      "\n",
      "           * * *\n",
      "\n",
      "Tit   = total number of iterations\n",
      "Tnf   = total number of function evaluations\n",
      "Tnint = total number of segments explored during Cauchy searches\n",
      "Skip  = number of BFGS updates skipped\n",
      "Nact  = number of active bounds at final generalized Cauchy point\n",
      "Projg = norm of the final projected gradient\n",
      "F     = final function value\n",
      "\n",
      "           * * *\n",
      "\n",
      "   N    Tit     Tnf  Tnint  Skip  Nact     Projg        F\n",
      "    3      4      7      1     0     0   1.643D-05   1.091D+00\n",
      "  F =   1.0908215788728823     \n",
      "\n",
      "CONVERGENCE: REL_REDUCTION_OF_F_<=_FACTR*EPSMCH             \n",
      "RUNNING THE L-BFGS-B CODE\n",
      "\n",
      "           * * *\n",
      "\n",
      "Machine precision = 2.220D-16\n",
      " N =            4     M =           10\n",
      "\n",
      "At X0         0 variables are exactly at the bounds\n",
      "\n",
      "At iterate    0    f=  1.08490D+00    |proj g|=  6.76740D-03\n"
     ]
    },
    {
     "name": "stderr",
     "output_type": "stream",
     "text": [
      " This problem is unconstrained.\n"
     ]
    },
    {
     "name": "stdout",
     "output_type": "stream",
     "text": [
      "\n",
      "At iterate    5    f=  1.08483D+00    |proj g|=  3.06548D-03\n",
      "\n",
      "At iterate   10    f=  1.08471D+00    |proj g|=  3.14104D-04\n",
      "\n",
      "           * * *\n",
      "\n",
      "Tit   = total number of iterations\n",
      "Tnf   = total number of function evaluations\n",
      "Tnint = total number of segments explored during Cauchy searches\n",
      "Skip  = number of BFGS updates skipped\n",
      "Nact  = number of active bounds at final generalized Cauchy point\n",
      "Projg = norm of the final projected gradient\n",
      "F     = final function value\n",
      "\n",
      "           * * *\n",
      "\n",
      "   N    Tit     Tnf  Tnint  Skip  Nact     Projg        F\n",
      "    4     11     15      1     0     0   4.395D-06   1.085D+00\n",
      "  F =   1.0847108757244144     \n",
      "\n",
      "CONVERGENCE: NORM_OF_PROJECTED_GRADIENT_<=_PGTOL            \n",
      "RUNNING THE L-BFGS-B CODE\n",
      "\n",
      "           * * *\n",
      "\n",
      "Machine precision = 2.220D-16\n",
      " N =            5     M =           10\n",
      "\n",
      "At X0         0 variables are exactly at the bounds\n",
      "\n",
      "At iterate    0    f=  1.08488D+00    |proj g|=  4.09382D-03\n"
     ]
    },
    {
     "name": "stderr",
     "output_type": "stream",
     "text": [
      " This problem is unconstrained.\n"
     ]
    },
    {
     "name": "stdout",
     "output_type": "stream",
     "text": [
      "\n",
      "At iterate    5    f=  1.08480D+00    |proj g|=  6.56595D-03\n",
      "\n",
      "At iterate   10    f=  1.08478D+00    |proj g|=  1.02877D-03\n",
      "\n",
      "At iterate   15    f=  1.08470D+00    |proj g|=  2.19994D-02\n",
      "\n",
      "At iterate   20    f=  1.08424D+00    |proj g|=  9.24298D-04\n",
      "\n",
      "At iterate   25    f=  1.08423D+00    |proj g|=  1.15291D-03\n",
      "\n",
      "           * * *\n",
      "\n",
      "Tit   = total number of iterations\n",
      "Tnf   = total number of function evaluations\n",
      "Tnint = total number of segments explored during Cauchy searches\n",
      "Skip  = number of BFGS updates skipped\n",
      "Nact  = number of active bounds at final generalized Cauchy point\n",
      "Projg = norm of the final projected gradient\n",
      "F     = final function value\n",
      "\n",
      "           * * *\n",
      "\n",
      "   N    Tit     Tnf  Tnint  Skip  Nact     Projg        F\n",
      "    5     29     33      1     0     0   3.797D-05   1.084D+00\n",
      "  F =   1.0842254285322550     \n",
      "\n",
      "CONVERGENCE: REL_REDUCTION_OF_F_<=_FACTR*EPSMCH             \n",
      "RUNNING THE L-BFGS-B CODE\n",
      "\n",
      "           * * *\n",
      "\n",
      "Machine precision = 2.220D-16\n",
      " N =            3     M =           10\n",
      "\n",
      "At X0         0 variables are exactly at the bounds\n",
      "\n",
      "At iterate    0    f=  1.29239D+00    |proj g|=  1.62358D-02\n"
     ]
    },
    {
     "name": "stderr",
     "output_type": "stream",
     "text": [
      " This problem is unconstrained.\n"
     ]
    },
    {
     "name": "stdout",
     "output_type": "stream",
     "text": [
      "\n",
      "           * * *\n",
      "\n",
      "Tit   = total number of iterations\n",
      "Tnf   = total number of function evaluations\n",
      "Tnint = total number of segments explored during Cauchy searches\n",
      "Skip  = number of BFGS updates skipped\n",
      "Nact  = number of active bounds at final generalized Cauchy point\n",
      "Projg = norm of the final projected gradient\n",
      "F     = final function value\n",
      "\n",
      "           * * *\n",
      "\n",
      "   N    Tit     Tnf  Tnint  Skip  Nact     Projg        F\n",
      "    3      4      7      1     0     0   5.261D-06   1.292D+00\n",
      "  F =   1.2922305880388734     \n",
      "\n",
      "CONVERGENCE: NORM_OF_PROJECTED_GRADIENT_<=_PGTOL            \n",
      "RUNNING THE L-BFGS-B CODE\n",
      "\n",
      "           * * *\n",
      "\n",
      "Machine precision = 2.220D-16\n",
      " N =            4     M =           10\n",
      "\n",
      "At X0         0 variables are exactly at the bounds\n",
      "\n",
      "At iterate    0    f=  1.18655D+00    |proj g|=  1.68285D-01\n"
     ]
    },
    {
     "name": "stderr",
     "output_type": "stream",
     "text": [
      " This problem is unconstrained.\n"
     ]
    },
    {
     "name": "stdout",
     "output_type": "stream",
     "text": [
      "\n",
      "At iterate    5    f=  1.13119D+00    |proj g|=  6.51567D-02\n",
      "\n",
      "At iterate   10    f=  1.09767D+00    |proj g|=  2.15358D-02\n",
      "\n",
      "At iterate   15    f=  1.09252D+00    |proj g|=  7.87612D-03\n",
      "\n",
      "At iterate   20    f=  1.09176D+00    |proj g|=  3.11672D-04\n",
      "\n",
      "At iterate   25    f=  1.09169D+00    |proj g|=  4.21894D-04\n",
      "\n",
      "At iterate   30    f=  1.09169D+00    |proj g|=  6.53640D-04\n",
      "\n",
      "At iterate   35    f=  1.09169D+00    |proj g|=  6.59393D-05\n",
      "\n",
      "           * * *\n",
      "\n",
      "Tit   = total number of iterations\n",
      "Tnf   = total number of function evaluations\n",
      "Tnint = total number of segments explored during Cauchy searches\n",
      "Skip  = number of BFGS updates skipped\n",
      "Nact  = number of active bounds at final generalized Cauchy point\n",
      "Projg = norm of the final projected gradient\n",
      "F     = final function value\n",
      "\n",
      "           * * *\n",
      "\n",
      "   N    Tit     Tnf  Tnint  Skip  Nact     Projg        F\n",
      "    4     36     56      1     0     0   6.594D-05   1.092D+00\n",
      "  F =   1.0916852858990249     \n",
      "\n",
      "CONVERGENCE: REL_REDUCTION_OF_F_<=_FACTR*EPSMCH             \n",
      "RUNNING THE L-BFGS-B CODE\n",
      "\n",
      "           * * *\n",
      "\n",
      "Machine precision = 2.220D-16\n",
      " N =            5     M =           10\n",
      "\n",
      "At X0         0 variables are exactly at the bounds\n",
      "\n",
      "At iterate    0    f=  1.67014D+00    |proj g|=  1.16201D+00\n"
     ]
    },
    {
     "name": "stderr",
     "output_type": "stream",
     "text": [
      "\n",
      " Warning:  more than 10 function and gradient\n",
      "   evaluations in the last line search.  Termination\n",
      "   may possibly be caused by a bad search direction.\n",
      " This problem is unconstrained.\n"
     ]
    },
    {
     "name": "stdout",
     "output_type": "stream",
     "text": [
      "\n",
      "At iterate    5    f=  1.14561D+00    |proj g|=  6.75474D-02\n",
      "\n",
      "At iterate   10    f=  1.10175D+00    |proj g|=  2.27643D-02\n",
      "\n",
      "At iterate   15    f=  1.09851D+00    |proj g|=  5.98346D-03\n",
      "\n",
      "At iterate   20    f=  1.09844D+00    |proj g|=  4.63926D-03\n",
      "\n",
      "At iterate   25    f=  1.09840D+00    |proj g|=  1.54817D-04\n",
      "\n",
      "At iterate   30    f=  1.09840D+00    |proj g|=  4.79615D-04\n",
      "\n",
      "At iterate   35    f=  1.09839D+00    |proj g|=  5.43996D-03\n",
      "\n",
      "At iterate   40    f=  1.09835D+00    |proj g|=  3.90825D-04\n",
      "\n",
      "At iterate   45    f=  1.09833D+00    |proj g|=  7.48949D-04\n",
      "\n",
      "At iterate   50    f=  1.09833D+00    |proj g|=  2.44286D-04\n",
      "\n",
      "           * * *\n",
      "\n",
      "Tit   = total number of iterations\n",
      "Tnf   = total number of function evaluations\n",
      "Tnint = total number of segments explored during Cauchy searches\n",
      "Skip  = number of BFGS updates skipped\n",
      "Nact  = number of active bounds at final generalized Cauchy point\n",
      "Projg = norm of the final projected gradient\n",
      "F     = final function value\n",
      "\n",
      "           * * *\n",
      "\n",
      "   N    Tit     Tnf  Tnint  Skip  Nact     Projg        F\n",
      "    5     50     58      1     0     0   2.443D-04   1.098D+00\n",
      "  F =   1.0983287439375604     \n",
      "\n",
      "STOP: TOTAL NO. of ITERATIONS REACHED LIMIT                 \n",
      "Best SARIMAX(2, 1, 2) model - AIC:9687.796175078907\n"
     ]
    }
   ],
   "source": [
    "best_aic = np.inf\n",
    "best_pdq = None\n",
    "temp_model = None\n",
    "for param in pdq:\n",
    "        try:\n",
    "            \n",
    "            temp_model = sm.tsa.statespace.SARIMAX(wind_vals,\n",
    "                                             order = param,\n",
    "                                             enforce_stationarity=True,\n",
    "                                             enforce_invertibility=True)\n",
    "            results = temp_model.fit()\n",
    "            l = []\n",
    "            l.append(param[0])\n",
    "            l.append(param[1])\n",
    "            l.append(param[2])\n",
    "            l.append(results.aic)\n",
    "            AIC_scores_list.append(l)\n",
    "            if results.aic < best_aic:\n",
    "                best_aic = results.aic\n",
    "                best_pdq = param\n",
    "        except:\n",
    "            continue\n",
    "\n",
    "print(\"Best SARIMAX{} model - AIC:{}\".format(best_pdq, best_aic))"
   ]
  },
  {
   "cell_type": "code",
   "execution_count": 57,
   "metadata": {},
   "outputs": [
    {
     "name": "stdout",
     "output_type": "stream",
     "text": [
      "[[0, 0, 0, 12585.701287405518], [0, 0, 1, 7462.178833442966], [0, 0, 2, 4094.167742168], [0, 1, 0, -5507.418650011531], [0, 1, 1, -7298.481469251088], [0, 1, 2, -7301.935009202252], [0, 2, 0, -723.2416739910032], [0, 2, 1, -5494.706124241803], [0, 2, 2, -7282.802781227273], [1, 0, 0, -5521.973990407101], [1, 0, 1, -7294.432868083867], [1, 0, 2, -7297.972071616947], [1, 1, 0, -6568.762357259179], [1, 1, 1, -7302.276690789444], [1, 1, 2, -7402.568926423198], [1, 2, 0, -3201.8380457101234], [1, 2, 1, -6555.118931875872], [1, 2, 2, -7286.486739578639], [2, 0, 0, -6571.108884321922], [2, 0, 1, -7298.230311337089], [2, 0, 2, -7292.271405929657], [2, 1, 0, -6947.001925577102], [2, 1, 1, -7302.608256450197], [2, 1, 2, -7392.750342605882], [2, 2, 0, -4394.300955010533], [2, 2, 1, -6932.664558580265], [2, 2, 2, -7275.502425466201], [0, 0, 0, 32550.1392172657], [0, 0, 1, 27010.654214567312], [0, 0, 2, 22864.20739578597], [0, 1, 0, 9927.689733974716], [0, 1, 1, 9774.265666270612], [0, 1, 2, 9703.379015994498], [0, 2, 0, 13648.289504625252], [0, 2, 1, 9936.82495069416], [0, 2, 2, 9783.995871306808], [1, 0, 0, 9931.13130949875], [1, 0, 1, 9780.267882607366], [1, 0, 2, 9710.601864646484], [1, 1, 0, 9814.518099605746], [1, 1, 1, 9690.211330405204], [1, 1, 2, 9690.20361194081], [1, 2, 0, 12217.4805877523], [1, 2, 1, 9823.972792167133], [1, 2, 2, 9939.547166644936], [2, 0, 0, 9819.747916265203], [2, 0, 1, 9699.09851079213], [2, 0, 2, 9698.37678949504], [2, 1, 0, 9742.673413019347], [2, 1, 1, 9690.129276716123], [2, 1, 2, 9687.796175078907], [2, 2, 0, 11540.450228834983], [2, 2, 1, 9752.382861934697], [2, 2, 2, 9813.682368386664]]\n",
      "(2, 1, 2)\n",
      "9687.796175078907\n"
     ]
    }
   ],
   "source": [
    "print(AIC_scores_list)\n",
    "print(best_pdq)\n",
    "print(best_aic)\n",
    "\n",
    "#AIC_scores = pd.DataFrame.from_records(AIC_scores_list)\n",
    "#AIC_scores.columns=['p', 'd', 'q', 'AIC']\n",
    "#AIC_scores.iloc[AIC_scores['AIC'].argmin()]"
   ]
  },
  {
   "cell_type": "markdown",
   "metadata": {},
   "source": [
    "### Analysis:\n",
    "- After fitting the data with different combination of models, we got the best parameters as following:\n",
    "    - p = 2, d = 1, q = 2\n",
    "    "
   ]
  },
  {
   "cell_type": "code",
   "execution_count": 12,
   "metadata": {},
   "outputs": [],
   "source": [
    "best_pdq = (2, 1, 2)"
   ]
  },
  {
   "cell_type": "markdown",
   "metadata": {},
   "source": [
    "### Use the best parameters and build a model"
   ]
  },
  {
   "cell_type": "code",
   "execution_count": 13,
   "metadata": {},
   "outputs": [
    {
     "name": "stderr",
     "output_type": "stream",
     "text": [
      " This problem is unconstrained.\n"
     ]
    },
    {
     "name": "stdout",
     "output_type": "stream",
     "text": [
      "RUNNING THE L-BFGS-B CODE\n",
      "\n",
      "           * * *\n",
      "\n",
      "Machine precision = 2.220D-16\n",
      " N =            5     M =           10\n",
      "\n",
      "At X0         0 variables are exactly at the bounds\n",
      "\n",
      "At iterate    0    f=  1.08488D+00    |proj g|=  4.09382D-03\n",
      "\n",
      "At iterate    5    f=  1.08480D+00    |proj g|=  6.56595D-03\n",
      "\n",
      "At iterate   10    f=  1.08478D+00    |proj g|=  1.02877D-03\n",
      "\n",
      "At iterate   15    f=  1.08470D+00    |proj g|=  2.19994D-02\n",
      "\n",
      "At iterate   20    f=  1.08424D+00    |proj g|=  9.24298D-04\n",
      "\n",
      "At iterate   25    f=  1.08423D+00    |proj g|=  1.15291D-03\n",
      "\n",
      "           * * *\n",
      "\n",
      "Tit   = total number of iterations\n",
      "Tnf   = total number of function evaluations\n",
      "Tnint = total number of segments explored during Cauchy searches\n",
      "Skip  = number of BFGS updates skipped\n",
      "Nact  = number of active bounds at final generalized Cauchy point\n",
      "Projg = norm of the final projected gradient\n",
      "F     = final function value\n",
      "\n",
      "           * * *\n",
      "\n",
      "   N    Tit     Tnf  Tnint  Skip  Nact     Projg        F\n",
      "    5     29     33      1     0     0   3.797D-05   1.084D+00\n",
      "  F =   1.0842254285322550     \n",
      "\n",
      "CONVERGENCE: REL_REDUCTION_OF_F_<=_FACTR*EPSMCH             \n"
     ]
    }
   ],
   "source": [
    "best_model = sm.tsa.statespace.SARIMAX(wind_vals,\n",
    "                                      order=best_pdq,\n",
    "                                      enforce_stationarity=True,\n",
    "                                      enforce_invertibility=True)\n",
    "best_results = best_model.fit()\n",
    "show_me = 1"
   ]
  },
  {
   "cell_type": "code",
   "execution_count": 14,
   "metadata": {},
   "outputs": [
    {
     "name": "stdout",
     "output_type": "stream",
     "text": [
      "                               SARIMAX Results                                \n",
      "==============================================================================\n",
      "Dep. Variable:                      y   No. Observations:                 4463\n",
      "Model:               SARIMAX(2, 1, 2)   Log Likelihood               -4838.898\n",
      "Date:                Wed, 20 Apr 2022   AIC                           9687.796\n",
      "Time:                        10:32:22   BIC                           9719.813\n",
      "Sample:                             0   HQIC                          9699.082\n",
      "                               - 4463                                         \n",
      "Covariance Type:                  opg                                         \n",
      "==============================================================================\n"
     ]
    }
   ],
   "source": [
    "print(best_results.summary().tables[0])"
   ]
  },
  {
   "cell_type": "markdown",
   "metadata": {},
   "source": [
    "### Get predictions for points with missing data (see loc_flags) "
   ]
  },
  {
   "cell_type": "code",
   "execution_count": 107,
   "metadata": {},
   "outputs": [],
   "source": [
    "pred_dynamic = best_results.get_prediction(start=2200, end=2300, dynamic=True)\n",
    "predict_df = pred_dynamic.summary_frame(alpha=0.10)\n",
    "\n",
    "pred2 = best_results.get_prediction(start=2097, end=2110, dynamic=True)\n",
    "pred_df2 = pred2.summary_frame(alpha=0.10)"
   ]
  },
  {
   "cell_type": "markdown",
   "metadata": {},
   "source": [
    "### Extract the predicted and true values of our time series"
   ]
  },
  {
   "cell_type": "code",
   "execution_count": 95,
   "metadata": {},
   "outputs": [
    {
     "data": {
      "text/plain": [
       "0      12.872225\n",
       "1      12.805348\n",
       "2      12.757728\n",
       "3      12.750802\n",
       "4      12.732671\n",
       "         ...    \n",
       "96     12.730192\n",
       "97     12.730414\n",
       "98     12.730201\n",
       "99     12.730405\n",
       "100    12.730209\n",
       "Name: mean, Length: 101, dtype: float64"
      ]
     },
     "execution_count": 95,
     "metadata": {},
     "output_type": "execute_result"
    }
   ],
   "source": [
    "predict_df.index\n",
    "predict_df['mean']"
   ]
  },
  {
   "cell_type": "markdown",
   "metadata": {},
   "source": [
    "### Compute the mean square error"
   ]
  },
  {
   "cell_type": "code",
   "execution_count": 104,
   "metadata": {},
   "outputs": [
    {
     "name": "stdout",
     "output_type": "stream",
     "text": [
      "The Mean Squared Error of our predictions is 0.1341\n"
     ]
    },
    {
     "data": {
      "text/plain": [
       "Index(['01/12/2010 00:10', '02/12/2010 09:30', '03/12/2010 18:50',\n",
       "       '05/12/2010 04:10', '06/12/2010 13:30'],\n",
       "      dtype='object', name='Datetime')"
      ]
     },
     "execution_count": 104,
     "metadata": {},
     "output_type": "execute_result"
    }
   ],
   "source": [
    "mse = math.sqrt(((wind_predicted - wind_truth) ** 2).mean())\n",
    "print('The Mean Squared Error of our predictions is {}'.format(round(mse, 4)))\n"
   ]
  },
  {
   "cell_type": "code",
   "execution_count": 114,
   "metadata": {},
   "outputs": [
    {
     "data": {
      "text/plain": [
       "([<matplotlib.axis.XTick at 0x7f9dd42d3880>,\n",
       "  <matplotlib.axis.XTick at 0x7f9dd42d3850>,\n",
       "  <matplotlib.axis.XTick at 0x7f9dd42bd7c0>,\n",
       "  <matplotlib.axis.XTick at 0x7f9dd4285c40>,\n",
       "  <matplotlib.axis.XTick at 0x7f9dd4277970>],\n",
       " [Text(0, 0, '11/12/2010 10:10'),\n",
       "  Text(200, 0, '12/12/2010 19:30'),\n",
       "  Text(400, 0, '14/12/2010 04:50'),\n",
       "  Text(600, 0, '15/12/2010 14:10'),\n",
       "  Text(800, 0, '16/12/2010 23:30')])"
      ]
     },
     "execution_count": 114,
     "metadata": {},
     "output_type": "execute_result"
    },
    {
     "data": {
      "image/png": "[encoded data removed]",
      "text/plain": [
       "<Figure size 1440x360 with 1 Axes>"
      ]
     },
     "metadata": {
      "needs_background": "light"
     },
     "output_type": "display_data"
    }
   ],
   "source": [
    "# Plot the actual values.\n",
    "plt.figure(figsize=(20,5))\n",
    "plt.plot(wind_vals[1500:2500], color='blue')\n",
    "plt.plot(np.arange(700,801),predict_df['mean'], color='red', linewidth=5)\n",
    "plt.plot(np.arange(597,611),pred_df2['mean'], color='red', linewidth=5)\n",
    "plt.title('Wind at Euro platform for January 2010')\n",
    "plt.ylabel('Wind speed (m/s)')\n",
    "plt.xticks(np.arange(0, 1000, step=200),dec_winds.index[np.arange(1500, 2500, step=200)])"
   ]
  },
  {
   "cell_type": "markdown",
   "metadata": {},
   "source": [
    "### Forecast\n",
    "- Predict Precipitation for next 7 years."
   ]
  },
  {
   "cell_type": "code",
   "execution_count": 46,
   "metadata": {},
   "outputs": [],
   "source": [
    "# Get forecast 96 steps (8 years) ahead in future\n",
    "n_steps = 96\n",
    "pred_uc_95 = best_results.get_forecast(steps=n_steps, alpha=0.05) # alpha=0.05 95% CI\n",
    "\n",
    "# Get confidence intervals 95% of the forecasts\n",
    "pred_ci_95 = pred_uc_95.conf_int()"
   ]
  },
  {
   "cell_type": "code",
   "execution_count": 47,
   "metadata": {},
   "outputs": [
    {
     "data": {
      "text/html": [
       "<div>\n",
       "<style scoped>\n",
       "    .dataframe tbody tr th:only-of-type {\n",
       "        vertical-align: middle;\n",
       "    }\n",
       "\n",
       "    .dataframe tbody tr th {\n",
       "        vertical-align: top;\n",
       "    }\n",
       "\n",
       "    .dataframe thead th {\n",
       "        text-align: right;\n",
       "    }\n",
       "</style>\n",
       "<table border=\"1\" class=\"dataframe\">\n",
       "  <thead>\n",
       "    <tr style=\"text-align: right;\">\n",
       "      <th></th>\n",
       "      <th>forecast</th>\n",
       "      <th>lower_ci_95</th>\n",
       "      <th>upper_ci_95</th>\n",
       "    </tr>\n",
       "  </thead>\n",
       "  <tbody>\n",
       "    <tr>\n",
       "      <th>1995-01-01</th>\n",
       "      <td>11.753433</td>\n",
       "      <td>-173.841143</td>\n",
       "      <td>197.348008</td>\n",
       "    </tr>\n",
       "    <tr>\n",
       "      <th>1995-02-01</th>\n",
       "      <td>12.528777</td>\n",
       "      <td>-173.065841</td>\n",
       "      <td>198.123395</td>\n",
       "    </tr>\n",
       "    <tr>\n",
       "      <th>1995-03-01</th>\n",
       "      <td>13.425796</td>\n",
       "      <td>-172.168843</td>\n",
       "      <td>199.020434</td>\n",
       "    </tr>\n",
       "    <tr>\n",
       "      <th>1995-04-01</th>\n",
       "      <td>23.487771</td>\n",
       "      <td>-162.106888</td>\n",
       "      <td>209.082430</td>\n",
       "    </tr>\n",
       "    <tr>\n",
       "      <th>1995-05-01</th>\n",
       "      <td>38.512415</td>\n",
       "      <td>-147.082264</td>\n",
       "      <td>224.107094</td>\n",
       "    </tr>\n",
       "  </tbody>\n",
       "</table>\n",
       "</div>"
      ],
      "text/plain": [
       "             forecast  lower_ci_95  upper_ci_95\n",
       "1995-01-01  11.753433  -173.841143   197.348008\n",
       "1995-02-01  12.528777  -173.065841   198.123395\n",
       "1995-03-01  13.425796  -172.168843   199.020434\n",
       "1995-04-01  23.487771  -162.106888   209.082430\n",
       "1995-05-01  38.512415  -147.082264   224.107094"
      ]
     },
     "execution_count": 47,
     "metadata": {},
     "output_type": "execute_result"
    }
   ],
   "source": [
    "# index = pd.date_range(rainfall_data.index[-1] + 1, periods=n_steps, freq='MS')\n",
    "index = pd.date_range(rainfall_data.index[-1] + 1*rainfall_data.index[-1].freq, periods=n_steps, freq='MS')\n",
    "forecast_data = pd.DataFrame(np.column_stack([pred_uc_95.predicted_mean, pred_ci_95]), \n",
    "                     index=index, columns=['forecast', 'lower_ci_95', 'upper_ci_95'])\n",
    "\n",
    "forecast_data.head()"
   ]
  },
  {
   "cell_type": "markdown",
   "metadata": {},
   "source": [
    "### Plot the forecast along with confidence band"
   ]
  },
  {
   "cell_type": "code",
   "execution_count": 48,
   "metadata": {},
   "outputs": [
    {
     "data": {
      "text/plain": [
       "<matplotlib.legend.Legend at 0x161ed67f0>"
      ]
     },
     "execution_count": 48,
     "metadata": {},
     "output_type": "execute_result"
    },
    {
     "data": {
      "image/png": "[encoded data removed]",
      "text/plain": [
       "<Figure size 1080x432 with 1 Axes>"
      ]
     },
     "metadata": {
      "needs_background": "light"
     },
     "output_type": "display_data"
    }
   ],
   "source": [
    "axis_plt = rainfall_dummy_data['1984':].plot(label='Observed', color='blue', figsize=(15, 6))\n",
    "\n",
    "test_rainfall_data.Precipitation.plot(ax=axis_plt, color='green', label='Test data')\n",
    "forecast_data['forecast'].plot(ax=axis_plt, label='Forecast', alpha=0.7, color='r')\n",
    "\n",
    "# axis_plt.fill_between(forecast_data.index, forecast_data['lower_ci_95'], forecast_data['upper_ci_95'], color='k', alpha=.25)\n",
    "\n",
    "axis_plt.set_xlabel('Years')\n",
    "axis_plt.set_ylabel('Monthly mean Precipitation')\n",
    "plt.legend(loc='best')"
   ]
  },
  {
   "cell_type": "code",
   "execution_count": 49,
   "metadata": {},
   "outputs": [],
   "source": [
    "dummy_test_data = test_rainfall_data\n",
    "dummy_test_data.columns = ['Test data']"
   ]
  },
  {
   "cell_type": "code",
   "execution_count": 50,
   "metadata": {},
   "outputs": [
    {
     "data": {
      "text/plain": [
       "<matplotlib.legend.Legend at 0x161a7df40>"
      ]
     },
     "execution_count": 50,
     "metadata": {},
     "output_type": "execute_result"
    },
    {
     "data": {
      "image/png": "[encoded data removed]",
      "text/plain": [
       "<Figure size 720x360 with 1 Axes>"
      ]
     },
     "metadata": {
      "needs_background": "light"
     },
     "output_type": "display_data"
    }
   ],
   "source": [
    "axis_plt = dummy_test_data['1996':].plot(label='Actual values', figsize=(10, 5), color='green')\n",
    "forecast_data['forecast']['1996':].plot(ax=axis_plt, label='Forecast', alpha=0.7, color='r')\n",
    "\n",
    "axis_plt.set_xlabel('Years')\n",
    "axis_plt.set_ylabel('Monthly mean Precipitation')\n",
    "plt.legend(loc='best')"
   ]
  },
  {
   "cell_type": "markdown",
   "metadata": {},
   "source": [
    "### Mean square error of the forecasts"
   ]
  },
  {
   "cell_type": "code",
   "execution_count": 51,
   "metadata": {},
   "outputs": [],
   "source": [
    "y_true = test_rainfall_data['1995-01-01':]['Test data']\n",
    "y_forecast = forecast_data['forecast']"
   ]
  },
  {
   "cell_type": "code",
   "execution_count": 52,
   "metadata": {},
   "outputs": [
    {
     "name": "stdout",
     "output_type": "stream",
     "text": [
      "The Mean Squared Error of our forecasts is 89.2525\n"
     ]
    }
   ],
   "source": [
    "mse = math.sqrt(((y_true - y_forecast) ** 2).mean())\n",
    "print('The Mean Squared Error of our forecasts is {}'.format(round(mse, 4)))"
   ]
  },
  {
   "cell_type": "markdown",
   "metadata": {},
   "source": [
    "### MAPE"
   ]
  },
  {
   "cell_type": "code",
   "execution_count": 53,
   "metadata": {},
   "outputs": [
    {
     "name": "stdout",
     "output_type": "stream",
     "text": [
      "The MAPE of our forecasts is inf\n"
     ]
    }
   ],
   "source": [
    "mape = np.mean(np.abs((y_true - y_forecast) / (y_true))) * 100\n",
    "print('The MAPE of our forecasts is {}'.format(round(mape, 4)))"
   ]
  },
  {
   "cell_type": "code",
   "execution_count": 54,
   "metadata": {},
   "outputs": [],
   "source": [
    "def mape_vectorized_v2(a, b): \n",
    "    mask = a != 0\n",
    "    return (np.fabs(a - b)/a)[mask].mean()"
   ]
  },
  {
   "cell_type": "code",
   "execution_count": 55,
   "metadata": {},
   "outputs": [
    {
     "data": {
      "text/plain": [
       "158.000619460752"
      ]
     },
     "execution_count": 55,
     "metadata": {},
     "output_type": "execute_result"
    }
   ],
   "source": [
    "mape_vectorized_v2(y_true, y_forecast)"
   ]
  },
  {
   "cell_type": "code",
   "execution_count": null,
   "metadata": {},
   "outputs": [],
   "source": []
  },
  {
   "cell_type": "code",
   "execution_count": 56,
   "metadata": {},
   "outputs": [],
   "source": [
    "RMSE_data = [['Train RMSE', 97.66, 74.58],\n",
    "            ['Test RMSE', 89.25, 91.69]]"
   ]
  },
  {
   "cell_type": "code",
   "execution_count": 57,
   "metadata": {},
   "outputs": [
    {
     "data": {
      "text/html": [
       "<div>\n",
       "<style scoped>\n",
       "    .dataframe tbody tr th:only-of-type {\n",
       "        vertical-align: middle;\n",
       "    }\n",
       "\n",
       "    .dataframe tbody tr th {\n",
       "        vertical-align: top;\n",
       "    }\n",
       "\n",
       "    .dataframe thead th {\n",
       "        text-align: right;\n",
       "    }\n",
       "</style>\n",
       "<table border=\"1\" class=\"dataframe\">\n",
       "  <thead>\n",
       "    <tr style=\"text-align: right;\">\n",
       "      <th></th>\n",
       "      <th>Type of Data</th>\n",
       "      <th>RMSE of ARIMA</th>\n",
       "      <th>RMSE of LSTM</th>\n",
       "    </tr>\n",
       "  </thead>\n",
       "  <tbody>\n",
       "    <tr>\n",
       "      <th>0</th>\n",
       "      <td>Train RMSE</td>\n",
       "      <td>97.66</td>\n",
       "      <td>74.58</td>\n",
       "    </tr>\n",
       "    <tr>\n",
       "      <th>1</th>\n",
       "      <td>Test RMSE</td>\n",
       "      <td>89.25</td>\n",
       "      <td>91.69</td>\n",
       "    </tr>\n",
       "  </tbody>\n",
       "</table>\n",
       "</div>"
      ],
      "text/plain": [
       "  Type of Data  RMSE of ARIMA  RMSE of LSTM\n",
       "0   Train RMSE          97.66         74.58\n",
       "1    Test RMSE          89.25         91.69"
      ]
     },
     "execution_count": 57,
     "metadata": {},
     "output_type": "execute_result"
    }
   ],
   "source": [
    "RMSE_data_df = pd.DataFrame.from_records(RMSE_data)\n",
    "RMSE_data_df.columns = ['Type of Data', 'RMSE of ARIMA', 'RMSE of LSTM']\n",
    "RMSE_data_df"
   ]
  },
  {
   "cell_type": "code",
   "execution_count": 58,
   "metadata": {},
   "outputs": [
    {
     "data": {
      "text/plain": [
       "Text(0.5, 1.0, 'ARIMA - Train and Test RMSE')"
      ]
     },
     "execution_count": 58,
     "metadata": {},
     "output_type": "execute_result"
    },
    {
     "data": {
      "image/png": "[encoded data removed]",
      "text/plain": [
       "<Figure size 432x288 with 1 Axes>"
      ]
     },
     "metadata": {
      "needs_background": "light"
     },
     "output_type": "display_data"
    }
   ],
   "source": [
    "g = sns.barplot(x='Type of Data', y='RMSE of ARIMA', data=RMSE_data_df, palette='spring')\n",
    "for index, row in RMSE_data_df.iterrows():\n",
    "    g.text(row.name, row['RMSE of ARIMA'], round(row['RMSE of ARIMA'],2), color='black', ha=\"center\")\n",
    "plt.title('ARIMA - Train and Test RMSE')"
   ]
  },
  {
   "cell_type": "code",
   "execution_count": 59,
   "metadata": {},
   "outputs": [
    {
     "data": {
      "text/plain": [
       "Text(0.5, 1.0, 'LSTM - Train and Test RMSE')"
      ]
     },
     "execution_count": 59,
     "metadata": {},
     "output_type": "execute_result"
    },
    {
     "data": {
      "image/png": "[encoded data removed]",
      "text/plain": [
       "<Figure size 432x288 with 1 Axes>"
      ]
     },
     "metadata": {
      "needs_background": "light"
     },
     "output_type": "display_data"
    }
   ],
   "source": [
    "g = sns.barplot(x='Type of Data', y='RMSE of LSTM', data=RMSE_data_df, palette='spring')\n",
    "for index, row in RMSE_data_df.iterrows():\n",
    "    g.text(row.name, row['RMSE of LSTM'], round(row['RMSE of LSTM'],2), color='black', ha=\"center\")\n",
    "plt.title('LSTM - Train and Test RMSE')"
   ]
  },
  {
   "cell_type": "code",
   "execution_count": 60,
   "metadata": {},
   "outputs": [
    {
     "data": {
      "text/plain": [
       "Text(0.5, 1.0, 'Comparison of train and test RMSE of two algorithms')"
      ]
     },
     "execution_count": 60,
     "metadata": {},
     "output_type": "execute_result"
    },
    {
     "data": {
      "image/png": "[encoded data removed]",
      "text/plain": [
       "<Figure size 432x288 with 1 Axes>"
      ]
     },
     "metadata": {
      "needs_background": "light"
     },
     "output_type": "display_data"
    }
   ],
   "source": [
    "RMSE_data_df.plot(x=\"Type of Data\", y=[\"RMSE of ARIMA\", \"RMSE of LSTM\"], kind=\"bar\")\n",
    "plt.title('Comparison of train and test RMSE of two algorithms')"
   ]
  },
  {
   "cell_type": "code",
   "execution_count": null,
   "metadata": {},
   "outputs": [],
   "source": [
    "# Throws an error, unsure why\n",
    "sns.barplot(x='Type of Data', y=['RMSE of ARIMA', 'RMSE of LSTM'], hue='Type of Data', data=RMSE_data_df, palette='spring')"
   ]
  }
 ],
 "metadata": {
  "kernelspec": {
   "display_name": "Python 3 (ipykernel)",
   "language": "python",
   "name": "python3"
  },
  "language_info": {
   "codemirror_mode": {
    "name": "ipython",
    "version": 3
   },
   "file_extension": ".py",
   "mimetype": "text/x-python",
   "name": "python",
   "nbconvert_exporter": "python",
   "pygments_lexer": "ipython3",
   "version": "3.9.10"
  }
 },
 "nbformat": 4,
 "nbformat_minor": 4
}
